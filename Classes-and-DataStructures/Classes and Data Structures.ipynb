{
 "cells": [
  {
   "cell_type": "markdown",
   "metadata": {
    "slideshow": {
     "slide_type": "slide"
    }
   },
   "source": [
    "# No `class`\n",
    "\n",
    "* Classes and OOP\n",
    "    * What\n",
    "    * Why...or why not?\n",
    "* Data Structures\n",
    "    * Basics\n",
    "    * `collections` - Container datatypes\n",
    "        * JSON, YAML\n",
    "        * [namedtupled](https://namedtupled.readthedocs.io/en/latest/)\n",
    "    * Got `class`"
   ]
  },
  {
   "cell_type": "markdown",
   "metadata": {
    "slideshow": {
     "slide_type": "slide"
    }
   },
   "source": [
    "# No `class`\n",
    "\n",
    "## Classes and OOP - Down with OOP?\n",
    "\n",
    "\n",
    "#### What\n",
    "    * Mostly a collection of properties along with stuff you want to do to those properties\n",
    "    * Make it easy to work with groups of those collections\n",
    "    \n",
    "#### Why\n",
    "    * Extensibility\n",
    "    * [Design Patterns](http://rads.stackoverflow.com/amzn/click/0201633612)\n",
    "    * Big projects\n",
    "    * All the cool kids\n",
    "    \n",
    "#### Why not?\n",
    "    * Why?"
   ]
  },
  {
   "cell_type": "markdown",
   "metadata": {},
   "source": [
    "### Quintessential Point"
   ]
  },
  {
   "cell_type": "code",
   "execution_count": 1,
   "metadata": {
    "collapsed": false,
    "slideshow": {
     "slide_type": "slide"
    }
   },
   "outputs": [],
   "source": [
    "class Point(object):\n",
    "    def __init__(self, x, y, z=0):\n",
    "        self.x = x\n",
    "        self.y = y\n",
    "        self.z = z\n",
    "        \n",
    "    def move(self, x=0, y=0, z=0):\n",
    "        \"\"\" Translate a point \"\"\"\n",
    "        self.x += x\n",
    "        self.y += y\n",
    "        self.z += z\n",
    "        \n",
    "    def __add__(self, point):\n",
    "        \"\"\" Add point to self \"\"\"\n",
    "        x = self.x + point.x\n",
    "        y = self.y + point.y\n",
    "        z = self.z + point.z\n",
    "        return Point(x,y,z)        \n",
    "            \n",
    "    def __mul__(self, point):\n",
    "        \"\"\" Multiply self by point \"\"\"\n",
    "        x = self.x * point.x\n",
    "        y = self.y * point.y\n",
    "        z = self.z * point.z\n",
    "        return Point(x,y,z) \n",
    "    \n",
    "    def __str__(self):\n",
    "        return \"({:3}, {:3}, {:3})\".format(self.x,self.y,self.z)"
   ]
  },
  {
   "cell_type": "code",
   "execution_count": 2,
   "metadata": {
    "collapsed": false
   },
   "outputs": [
    {
     "name": "stdout",
     "output_type": "stream",
     "text": [
      "p0 =  ( 42,  12,  39)\n",
      "p0 =  ( 51,  12,  16)\n",
      "\n",
      "p1 =  ( 10,  10,  16)\n",
      "p2 =  (510, 120, 256)\n",
      "\n",
      "p2.x = 510 \t p0.z = 16\n"
     ]
    }
   ],
   "source": [
    "p0 = Point(42,12,39)\n",
    "print(\"p0 = \", p0)\n",
    "\n",
    "p0.move(x=9,z=-23)\n",
    "print(\"p0 = \", p0)\n",
    "\n",
    "print()\n",
    "\n",
    "p1 = Point(10,10,p0.z)\n",
    "print(\"p1 = \", p1)\n",
    "\n",
    "p2 = p0 * p1\n",
    "print(\"p2 = \", p2)\n",
    "\n",
    "print()\n",
    "print(\"p2.x = {} \\t p0.z = {}\".format(p2.x, p0.z))"
   ]
  },
  {
   "cell_type": "markdown",
   "metadata": {},
   "source": [
    "### And now, a full example...\n",
    "\n",
    "Let's make a class to make our life easier! Yay! [Exoplanet Class example](Exoplanet+Info.ipynb)\n",
    "\n",
    "### But first...Data Structures!"
   ]
  },
  {
   "cell_type": "markdown",
   "metadata": {},
   "source": [
    "---\n",
    "## Basics\n",
    "---"
   ]
  },
  {
   "cell_type": "code",
   "execution_count": 3,
   "metadata": {
    "collapsed": true
   },
   "outputs": [],
   "source": [
    "from astropy.time import Time\n",
    "from astropy import units as u\n",
    "from pprint import pprint\n",
    "import random\n",
    "import numpy as np\n",
    "from matplotlib import pyplot as plt"
   ]
  },
  {
   "cell_type": "markdown",
   "metadata": {},
   "source": [
    "##### Lists\n",
    "\n",
    "Flexible, but usually a homogoeneous collection of things\n",
    "\n",
    "[More on lists](https://docs.python.org/3/tutorial/datastructures.html#more-on-lists)"
   ]
  },
  {
   "cell_type": "code",
   "execution_count": 4,
   "metadata": {
    "collapsed": false
   },
   "outputs": [
    {
     "name": "stdout",
     "output_type": "stream",
     "text": [
      "[100.12, 102.3, 99.0, 145.0, 13564]\n",
      "['r', 'g', 'b']\n"
     ]
    }
   ],
   "source": [
    "flux_values = [100.12, 102.3, 99.0, 145.0, 13564]\n",
    "print(flux_values)\n",
    "\n",
    "filters = ['r','g','b']\n",
    "print(filters)"
   ]
  },
  {
   "cell_type": "markdown",
   "metadata": {},
   "source": [
    "##### Dictonaries\n",
    "\n",
    "Key/value pair collection. Values (and keys!) can be other data types\n",
    "\n",
    "[More on dictionaries](https://docs.python.org/3/tutorial/datastructures.html#dictionaries)"
   ]
  },
  {
   "cell_type": "code",
   "execution_count": 5,
   "metadata": {
    "collapsed": false
   },
   "outputs": [
    {
     "name": "stdout",
     "output_type": "stream",
     "text": [
      "{'date-obs': <Time object: scale='utc' format='isot' value=2017-06-03T12:34:56.000>,\n",
      " 'filters': ['r', 'g', 'b'],\n",
      " 'flux': []}\n"
     ]
    }
   ],
   "source": [
    "# Create a dictonary for an observation\n",
    "observations = {\n",
    "    \"date-obs\": Time(\"2017-06-03T12:34:56.0\"),\n",
    "    \"filters\": filters,\n",
    "    \"flux\": []\n",
    "}\n",
    "pprint(observations)"
   ]
  },
  {
   "cell_type": "code",
   "execution_count": 6,
   "metadata": {
    "collapsed": false
   },
   "outputs": [],
   "source": [
    "# Assign random flux values\n",
    "for dt in np.arange(100):\n",
    "    observations['flux'].append({\n",
    "        'date-obs': observations['date-obs'] + (dt * u.second), \n",
    "        'r': random.randint(70, 150) * .9, \n",
    "        'g': random.randint(70, 150) * .97, \n",
    "        'b': random.randint(70, 150) * .8\n",
    "    })"
   ]
  },
  {
   "cell_type": "code",
   "execution_count": 7,
   "metadata": {
    "collapsed": false,
    "scrolled": true
   },
   "outputs": [
    {
     "name": "stdout",
     "output_type": "stream",
     "text": [
      "{'date-obs': <Time object: scale='utc' format='isot' value=2017-06-03T12:34:56.000>,\n",
      " 'filters': ['r', 'g', 'b'],\n",
      " 'flux': [{'b': 73.60000000000001,\n",
      "           'date-obs': <Time object: scale='utc' format='isot' value=2017-06-03T12:34:56.000>,\n",
      "           'g': 74.69,\n",
      "           'r': 112.5},\n",
      "          {'b': 97.60000000000001,\n",
      "           'date-obs': <Time object: scale='utc' format='isot' value=2017-06-03T12:34:57.000>,\n",
      "           'g': 130.95,\n",
      "           'r': 129.6},\n",
      "          {'b': 58.400000000000006,\n",
      "           'date-obs': <Time object: scale='utc' format='isot' value=2017-06-03T12:34:58.000>,\n",
      "           'g': 85.36,\n",
      "           'r': 112.5},\n",
      "          {'b': 82.4,\n",
      "           'date-obs': <Time object: scale='utc' format='isot' value=2017-06-03T12:34:59.000>,\n",
      "           'g': 81.48,\n",
      "           'r': 110.7},\n",
      "          {'b': 83.2,\n",
      "           'date-obs': <Time object: scale='utc' format='isot' value=2017-06-03T12:35:00.000>,\n",
      "           'g': 121.25,\n",
      "           'r': 89.10000000000001},\n",
      "          {'b': 93.60000000000001,\n",
      "           'date-obs': <Time object: scale='utc' format='isot' value=2017-06-03T12:35:01.000>,\n",
      "           'g': 112.52,\n",
      "           'r': 124.2},\n",
      "          {'b': 105.60000000000001,\n",
      "           'date-obs': <Time object: scale='utc' format='isot' value=2017-06-03T12:35:02.000>,\n",
      "           'g': 132.89,\n",
      "           'r': 73.8},\n",
      "          {'b': 71.2,\n",
      "           'date-obs': <Time object: scale='utc' format='isot' value=2017-06-03T12:35:03.000>,\n",
      "           'g': 134.82999999999998,\n",
      "           'r': 91.8},\n",
      "          {'b': 76.0,\n",
      "           'date-obs': <Time object: scale='utc' format='isot' value=2017-06-03T12:35:04.000>,\n",
      "           'g': 135.79999999999998,\n",
      "           'r': 68.4},\n",
      "          {'b': 107.2,\n",
      "           'date-obs': <Time object: scale='utc' format='isot' value=2017-06-03T12:35:05.000>,\n",
      "           'g': 68.87,\n",
      "           'r': 71.10000000000001},\n",
      "          {'b': 86.4,\n",
      "           'date-obs': <Time object: scale='utc' format='isot' value=2017-06-03T12:35:06.000>,\n",
      "           'g': 92.14999999999999,\n",
      "           'r': 106.2},\n",
      "          {'b': 104.0,\n",
      "           'date-obs': <Time object: scale='utc' format='isot' value=2017-06-03T12:35:07.000>,\n",
      "           'g': 69.84,\n",
      "           'r': 116.10000000000001},\n",
      "          {'b': 85.60000000000001,\n",
      "           'date-obs': <Time object: scale='utc' format='isot' value=2017-06-03T12:35:08.000>,\n",
      "           'g': 143.56,\n",
      "           'r': 71.10000000000001},\n",
      "          {'b': 62.400000000000006,\n",
      "           'date-obs': <Time object: scale='utc' format='isot' value=2017-06-03T12:35:09.000>,\n",
      "           'g': 138.71,\n",
      "           'r': 74.7},\n",
      "          {'b': 109.60000000000001,\n",
      "           'date-obs': <Time object: scale='utc' format='isot' value=2017-06-03T12:35:10.000>,\n",
      "           'g': 77.6,\n",
      "           'r': 65.7},\n",
      "          {'b': 64.8,\n",
      "           'date-obs': <Time object: scale='utc' format='isot' value=2017-06-03T12:35:11.000>,\n",
      "           'g': 96.03,\n",
      "           'r': 119.7},\n",
      "          {'b': 96.0,\n",
      "           'date-obs': <Time object: scale='utc' format='isot' value=2017-06-03T12:35:12.000>,\n",
      "           'g': 101.85,\n",
      "           'r': 65.7},\n",
      "          {'b': 119.2,\n",
      "           'date-obs': <Time object: scale='utc' format='isot' value=2017-06-03T12:35:13.000>,\n",
      "           'g': 98.94,\n",
      "           'r': 98.10000000000001},\n",
      "          {'b': 63.2,\n",
      "           'date-obs': <Time object: scale='utc' format='isot' value=2017-06-03T12:35:14.000>,\n",
      "           'g': 69.84,\n",
      "           'r': 99.0},\n",
      "          {'b': 60.800000000000004,\n",
      "           'date-obs': <Time object: scale='utc' format='isot' value=2017-06-03T12:35:15.000>,\n",
      "           'g': 86.33,\n",
      "           'r': 108.9},\n",
      "          {'b': 91.2,\n",
      "           'date-obs': <Time object: scale='utc' format='isot' value=2017-06-03T12:35:16.000>,\n",
      "           'g': 69.84,\n",
      "           'r': 112.5},\n",
      "          {'b': 72.8,\n",
      "           'date-obs': <Time object: scale='utc' format='isot' value=2017-06-03T12:35:17.000>,\n",
      "           'g': 84.39,\n",
      "           'r': 119.7},\n",
      "          {'b': 91.2,\n",
      "           'date-obs': <Time object: scale='utc' format='isot' value=2017-06-03T12:35:18.000>,\n",
      "           'g': 137.74,\n",
      "           'r': 127.8},\n",
      "          {'b': 68.8,\n",
      "           'date-obs': <Time object: scale='utc' format='isot' value=2017-06-03T12:35:19.000>,\n",
      "           'g': 110.58,\n",
      "           'r': 125.10000000000001},\n",
      "          {'b': 97.60000000000001,\n",
      "           'date-obs': <Time object: scale='utc' format='isot' value=2017-06-03T12:35:20.000>,\n",
      "           'g': 143.56,\n",
      "           'r': 123.3},\n",
      "          {'b': 94.4,\n",
      "           'date-obs': <Time object: scale='utc' format='isot' value=2017-06-03T12:35:21.000>,\n",
      "           'g': 132.89,\n",
      "           'r': 94.5},\n",
      "          {'b': 106.4,\n",
      "           'date-obs': <Time object: scale='utc' format='isot' value=2017-06-03T12:35:22.000>,\n",
      "           'g': 94.09,\n",
      "           'r': 79.2},\n",
      "          {'b': 80.0,\n",
      "           'date-obs': <Time object: scale='utc' format='isot' value=2017-06-03T12:35:23.000>,\n",
      "           'g': 102.82,\n",
      "           'r': 71.10000000000001},\n",
      "          {'b': 104.0,\n",
      "           'date-obs': <Time object: scale='utc' format='isot' value=2017-06-03T12:35:24.000>,\n",
      "           'g': 136.77,\n",
      "           'r': 100.8},\n",
      "          {'b': 59.2,\n",
      "           'date-obs': <Time object: scale='utc' format='isot' value=2017-06-03T12:35:25.000>,\n",
      "           'g': 107.67,\n",
      "           'r': 76.5},\n",
      "          {'b': 119.2,\n",
      "           'date-obs': <Time object: scale='utc' format='isot' value=2017-06-03T12:35:26.000>,\n",
      "           'g': 144.53,\n",
      "           'r': 68.4},\n",
      "          {'b': 100.80000000000001,\n",
      "           'date-obs': <Time object: scale='utc' format='isot' value=2017-06-03T12:35:27.000>,\n",
      "           'g': 81.48,\n",
      "           'r': 75.60000000000001},\n",
      "          {'b': 69.60000000000001,\n",
      "           'date-obs': <Time object: scale='utc' format='isot' value=2017-06-03T12:35:28.000>,\n",
      "           'g': 122.22,\n",
      "           'r': 125.10000000000001},\n",
      "          {'b': 98.4,\n",
      "           'date-obs': <Time object: scale='utc' format='isot' value=2017-06-03T12:35:29.000>,\n",
      "           'g': 114.46,\n",
      "           'r': 105.3},\n",
      "          {'b': 105.60000000000001,\n",
      "           'date-obs': <Time object: scale='utc' format='isot' value=2017-06-03T12:35:30.000>,\n",
      "           'g': 94.09,\n",
      "           'r': 119.7},\n",
      "          {'b': 92.80000000000001,\n",
      "           'date-obs': <Time object: scale='utc' format='isot' value=2017-06-03T12:35:31.000>,\n",
      "           'g': 81.48,\n",
      "           'r': 98.10000000000001},\n",
      "          {'b': 100.80000000000001,\n",
      "           'date-obs': <Time object: scale='utc' format='isot' value=2017-06-03T12:35:32.000>,\n",
      "           'g': 97.97,\n",
      "           'r': 87.3},\n",
      "          {'b': 68.0,\n",
      "           'date-obs': <Time object: scale='utc' format='isot' value=2017-06-03T12:35:33.000>,\n",
      "           'g': 90.21,\n",
      "           'r': 70.2},\n",
      "          {'b': 105.60000000000001,\n",
      "           'date-obs': <Time object: scale='utc' format='isot' value=2017-06-03T12:35:34.000>,\n",
      "           'g': 96.03,\n",
      "           'r': 112.5},\n",
      "          {'b': 68.8,\n",
      "           'date-obs': <Time object: scale='utc' format='isot' value=2017-06-03T12:35:35.000>,\n",
      "           'g': 110.58,\n",
      "           'r': 88.2},\n",
      "          {'b': 65.60000000000001,\n",
      "           'date-obs': <Time object: scale='utc' format='isot' value=2017-06-03T12:35:36.000>,\n",
      "           'g': 110.58,\n",
      "           'r': 100.8},\n",
      "          {'b': 79.2,\n",
      "           'date-obs': <Time object: scale='utc' format='isot' value=2017-06-03T12:35:37.000>,\n",
      "           'g': 135.79999999999998,\n",
      "           'r': 123.3},\n",
      "          {'b': 70.4,\n",
      "           'date-obs': <Time object: scale='utc' format='isot' value=2017-06-03T12:35:38.000>,\n",
      "           'g': 118.34,\n",
      "           'r': 86.4},\n",
      "          {'b': 100.0,\n",
      "           'date-obs': <Time object: scale='utc' format='isot' value=2017-06-03T12:35:39.000>,\n",
      "           'g': 119.31,\n",
      "           'r': 126.9},\n",
      "          {'b': 73.60000000000001,\n",
      "           'date-obs': <Time object: scale='utc' format='isot' value=2017-06-03T12:35:40.000>,\n",
      "           'g': 92.14999999999999,\n",
      "           'r': 75.60000000000001},\n",
      "          {'b': 77.60000000000001,\n",
      "           'date-obs': <Time object: scale='utc' format='isot' value=2017-06-03T12:35:41.000>,\n",
      "           'g': 144.53,\n",
      "           'r': 128.70000000000002},\n",
      "          {'b': 72.0,\n",
      "           'date-obs': <Time object: scale='utc' format='isot' value=2017-06-03T12:35:42.000>,\n",
      "           'g': 127.07,\n",
      "           'r': 93.60000000000001},\n",
      "          {'b': 83.2,\n",
      "           'date-obs': <Time object: scale='utc' format='isot' value=2017-06-03T12:35:43.000>,\n",
      "           'g': 86.33,\n",
      "           'r': 97.2},\n",
      "          {'b': 64.0,\n",
      "           'date-obs': <Time object: scale='utc' format='isot' value=2017-06-03T12:35:44.000>,\n",
      "           'g': 121.25,\n",
      "           'r': 81.9},\n",
      "          {'b': 115.2,\n",
      "           'date-obs': <Time object: scale='utc' format='isot' value=2017-06-03T12:35:45.000>,\n",
      "           'g': 121.25,\n",
      "           'r': 71.10000000000001},\n",
      "          {'b': 115.2,\n",
      "           'date-obs': <Time object: scale='utc' format='isot' value=2017-06-03T12:35:46.000>,\n",
      "           'g': 112.52,\n",
      "           'r': 126.0},\n",
      "          {'b': 75.2,\n",
      "           'date-obs': <Time object: scale='utc' format='isot' value=2017-06-03T12:35:47.000>,\n",
      "           'g': 110.58,\n",
      "           'r': 133.20000000000002},\n",
      "          {'b': 84.80000000000001,\n",
      "           'date-obs': <Time object: scale='utc' format='isot' value=2017-06-03T12:35:48.000>,\n",
      "           'g': 74.69,\n",
      "           'r': 110.7},\n",
      "          {'b': 103.2,\n",
      "           'date-obs': <Time object: scale='utc' format='isot' value=2017-06-03T12:35:49.000>,\n",
      "           'g': 139.68,\n",
      "           'r': 86.4},\n",
      "          {'b': 108.0,\n",
      "           'date-obs': <Time object: scale='utc' format='isot' value=2017-06-03T12:35:50.000>,\n",
      "           'g': 112.52,\n",
      "           'r': 99.9},\n",
      "          {'b': 112.0,\n",
      "           'date-obs': <Time object: scale='utc' format='isot' value=2017-06-03T12:35:51.000>,\n",
      "           'g': 72.75,\n",
      "           'r': 71.10000000000001},\n",
      "          {'b': 62.400000000000006,\n",
      "           'date-obs': <Time object: scale='utc' format='isot' value=2017-06-03T12:35:52.000>,\n",
      "           'g': 90.21,\n",
      "           'r': 119.7},\n",
      "          {'b': 74.4,\n",
      "           'date-obs': <Time object: scale='utc' format='isot' value=2017-06-03T12:35:53.000>,\n",
      "           'g': 123.19,\n",
      "           'r': 73.8},\n",
      "          {'b': 62.400000000000006,\n",
      "           'date-obs': <Time object: scale='utc' format='isot' value=2017-06-03T12:35:54.000>,\n",
      "           'g': 100.88,\n",
      "           'r': 87.3},\n",
      "          {'b': 64.0,\n",
      "           'date-obs': <Time object: scale='utc' format='isot' value=2017-06-03T12:35:55.000>,\n",
      "           'g': 79.53999999999999,\n",
      "           'r': 119.7},\n",
      "          {'b': 70.4,\n",
      "           'date-obs': <Time object: scale='utc' format='isot' value=2017-06-03T12:35:56.000>,\n",
      "           'g': 132.89,\n",
      "           'r': 125.10000000000001},\n",
      "          {'b': 113.60000000000001,\n",
      "           'date-obs': <Time object: scale='utc' format='isot' value=2017-06-03T12:35:57.000>,\n",
      "           'g': 129.98,\n",
      "           'r': 63.9},\n",
      "          {'b': 96.80000000000001,\n",
      "           'date-obs': <Time object: scale='utc' format='isot' value=2017-06-03T12:35:58.000>,\n",
      "           'g': 102.82,\n",
      "           'r': 127.8},\n",
      "          {'b': 92.0,\n",
      "           'date-obs': <Time object: scale='utc' format='isot' value=2017-06-03T12:35:59.000>,\n",
      "           'g': 116.39999999999999,\n",
      "           'r': 116.10000000000001},\n",
      "          {'b': 57.6,\n",
      "           'date-obs': <Time object: scale='utc' format='isot' value=2017-06-03T12:36:00.000>,\n",
      "           'g': 145.5,\n",
      "           'r': 100.8},\n",
      "          {'b': 93.60000000000001,\n",
      "           'date-obs': <Time object: scale='utc' format='isot' value=2017-06-03T12:36:01.000>,\n",
      "           'g': 130.95,\n",
      "           'r': 72.0},\n",
      "          {'b': 99.2,\n",
      "           'date-obs': <Time object: scale='utc' format='isot' value=2017-06-03T12:36:02.000>,\n",
      "           'g': 138.71,\n",
      "           'r': 130.5},\n",
      "          {'b': 69.60000000000001,\n",
      "           'date-obs': <Time object: scale='utc' format='isot' value=2017-06-03T12:36:03.000>,\n",
      "           'g': 119.31,\n",
      "           'r': 113.4},\n",
      "          {'b': 84.0,\n",
      "           'date-obs': <Time object: scale='utc' format='isot' value=2017-06-03T12:36:04.000>,\n",
      "           'g': 73.72,\n",
      "           'r': 95.4},\n",
      "          {'b': 106.4,\n",
      "           'date-obs': <Time object: scale='utc' format='isot' value=2017-06-03T12:36:05.000>,\n",
      "           'g': 73.72,\n",
      "           'r': 77.4},\n",
      "          {'b': 72.8,\n",
      "           'date-obs': <Time object: scale='utc' format='isot' value=2017-06-03T12:36:06.000>,\n",
      "           'g': 78.57,\n",
      "           'r': 72.0},\n",
      "          {'b': 83.2,\n",
      "           'date-obs': <Time object: scale='utc' format='isot' value=2017-06-03T12:36:07.000>,\n",
      "           'g': 69.84,\n",
      "           'r': 86.4},\n",
      "          {'b': 76.0,\n",
      "           'date-obs': <Time object: scale='utc' format='isot' value=2017-06-03T12:36:08.000>,\n",
      "           'g': 73.72,\n",
      "           'r': 127.8},\n",
      "          {'b': 68.0,\n",
      "           'date-obs': <Time object: scale='utc' format='isot' value=2017-06-03T12:36:09.000>,\n",
      "           'g': 97.97,\n",
      "           'r': 88.2},\n",
      "          {'b': 120.0,\n",
      "           'date-obs': <Time object: scale='utc' format='isot' value=2017-06-03T12:36:10.000>,\n",
      "           'g': 121.25,\n",
      "           'r': 91.8},\n",
      "          {'b': 83.2,\n",
      "           'date-obs': <Time object: scale='utc' format='isot' value=2017-06-03T12:36:11.000>,\n",
      "           'g': 95.06,\n",
      "           'r': 74.7},\n",
      "          {'b': 97.60000000000001,\n",
      "           'date-obs': <Time object: scale='utc' format='isot' value=2017-06-03T12:36:12.000>,\n",
      "           'g': 89.24,\n",
      "           'r': 83.7},\n",
      "          {'b': 84.80000000000001,\n",
      "           'date-obs': <Time object: scale='utc' format='isot' value=2017-06-03T12:36:13.000>,\n",
      "           'g': 84.39,\n",
      "           'r': 78.3},\n",
      "          {'b': 116.80000000000001,\n",
      "           'date-obs': <Time object: scale='utc' format='isot' value=2017-06-03T12:36:14.000>,\n",
      "           'g': 140.65,\n",
      "           'r': 90.0},\n",
      "          {'b': 94.4,\n",
      "           'date-obs': <Time object: scale='utc' format='isot' value=2017-06-03T12:36:15.000>,\n",
      "           'g': 124.16,\n",
      "           'r': 120.60000000000001},\n",
      "          {'b': 109.60000000000001,\n",
      "           'date-obs': <Time object: scale='utc' format='isot' value=2017-06-03T12:36:16.000>,\n",
      "           'g': 101.85,\n",
      "           'r': 90.9},\n",
      "          {'b': 72.8,\n",
      "           'date-obs': <Time object: scale='utc' format='isot' value=2017-06-03T12:36:17.000>,\n",
      "           'g': 128.04,\n",
      "           'r': 117.9},\n",
      "          {'b': 104.80000000000001,\n",
      "           'date-obs': <Time object: scale='utc' format='isot' value=2017-06-03T12:36:18.000>,\n",
      "           'g': 145.5,\n",
      "           'r': 135.0},\n",
      "          {'b': 71.2,\n",
      "           'date-obs': <Time object: scale='utc' format='isot' value=2017-06-03T12:36:19.000>,\n",
      "           'g': 87.3,\n",
      "           'r': 102.60000000000001},\n",
      "          {'b': 120.0,\n",
      "           'date-obs': <Time object: scale='utc' format='isot' value=2017-06-03T12:36:20.000>,\n",
      "           'g': 95.06,\n",
      "           'r': 75.60000000000001},\n",
      "          {'b': 98.4,\n",
      "           'date-obs': <Time object: scale='utc' format='isot' value=2017-06-03T12:36:21.000>,\n",
      "           'g': 144.53,\n",
      "           'r': 129.6},\n",
      "          {'b': 76.80000000000001,\n",
      "           'date-obs': <Time object: scale='utc' format='isot' value=2017-06-03T12:36:22.000>,\n",
      "           'g': 143.56,\n",
      "           'r': 65.7},\n",
      "          {'b': 76.0,\n",
      "           'date-obs': <Time object: scale='utc' format='isot' value=2017-06-03T12:36:23.000>,\n",
      "           'g': 94.09,\n",
      "           'r': 127.8},\n",
      "          {'b': 82.4,\n",
      "           'date-obs': <Time object: scale='utc' format='isot' value=2017-06-03T12:36:24.000>,\n",
      "           'g': 98.94,\n",
      "           'r': 110.7},\n",
      "          {'b': 106.4,\n",
      "           'date-obs': <Time object: scale='utc' format='isot' value=2017-06-03T12:36:25.000>,\n",
      "           'g': 96.03,\n",
      "           'r': 90.0},\n",
      "          {'b': 99.2,\n",
      "           'date-obs': <Time object: scale='utc' format='isot' value=2017-06-03T12:36:26.000>,\n",
      "           'g': 98.94,\n",
      "           'r': 115.2},\n",
      "          {'b': 95.2,\n",
      "           'date-obs': <Time object: scale='utc' format='isot' value=2017-06-03T12:36:27.000>,\n",
      "           'g': 76.63,\n",
      "           'r': 86.4},\n",
      "          {'b': 62.400000000000006,\n",
      "           'date-obs': <Time object: scale='utc' format='isot' value=2017-06-03T12:36:28.000>,\n",
      "           'g': 125.13,\n",
      "           'r': 66.60000000000001},\n",
      "          {'b': 88.0,\n",
      "           'date-obs': <Time object: scale='utc' format='isot' value=2017-06-03T12:36:29.000>,\n",
      "           'g': 71.78,\n",
      "           'r': 68.4},\n",
      "          {'b': 80.80000000000001,\n",
      "           'date-obs': <Time object: scale='utc' format='isot' value=2017-06-03T12:36:30.000>,\n",
      "           'g': 106.7,\n",
      "           'r': 125.10000000000001},\n",
      "          {'b': 101.60000000000001,\n",
      "           'date-obs': <Time object: scale='utc' format='isot' value=2017-06-03T12:36:31.000>,\n",
      "           'g': 97.97,\n",
      "           'r': 95.4},\n",
      "          {'b': 67.2,\n",
      "           'date-obs': <Time object: scale='utc' format='isot' value=2017-06-03T12:36:32.000>,\n",
      "           'g': 90.21,\n",
      "           'r': 133.20000000000002},\n",
      "          {'b': 104.80000000000001,\n",
      "           'date-obs': <Time object: scale='utc' format='isot' value=2017-06-03T12:36:33.000>,\n",
      "           'g': 100.88,\n",
      "           'r': 93.60000000000001},\n",
      "          {'b': 80.80000000000001,\n",
      "           'date-obs': <Time object: scale='utc' format='isot' value=2017-06-03T12:36:34.000>,\n",
      "           'g': 119.31,\n",
      "           'r': 102.60000000000001},\n",
      "          {'b': 82.4,\n",
      "           'date-obs': <Time object: scale='utc' format='isot' value=2017-06-03T12:36:35.000>,\n",
      "           'g': 97.97,\n",
      "           'r': 71.10000000000001}]}\n"
     ]
    }
   ],
   "source": [
    "pprint(observations)"
   ]
  },
  {
   "cell_type": "code",
   "execution_count": 8,
   "metadata": {
    "collapsed": false
   },
   "outputs": [
    {
     "data": {
      "text/plain": [
       "[<matplotlib.lines.Line2D at 0x7fa1ff275da0>]"
      ]
     },
     "execution_count": 8,
     "metadata": {},
     "output_type": "execute_result"
    }
   ],
   "source": [
    "r = [entry['r'] for entry in observations['flux']]\n",
    "g = [entry['g'] for entry in observations['flux']]\n",
    "b = [entry['b'] for entry in observations['flux']]\n",
    "\n",
    "domain = slice(0, 20)\n",
    "\n",
    "plt.plot(r[domain], 'r')\n",
    "plt.plot(g[domain], 'g')\n",
    "plt.plot(b[domain], 'b')"
   ]
  },
  {
   "cell_type": "markdown",
   "metadata": {},
   "source": [
    "##### `tuple`s and `set`s\n",
    "\n",
    "A `tuple` is usually heterogeneous and is immutable. Compare to a `list`, which usually is homogenous values and is mutable\n",
    "\n",
    "A `set` has unique elements"
   ]
  },
  {
   "cell_type": "code",
   "execution_count": 9,
   "metadata": {
    "collapsed": false
   },
   "outputs": [
    {
     "name": "stdout",
     "output_type": "stream",
     "text": [
      "14:25:20\n",
      "42.0\n",
      "\n",
      "42.0 seconds on filter g at 14:25:20\n"
     ]
    }
   ],
   "source": [
    "# Tuple\n",
    "params = (42.0, 'g', '14:25:20') # Value, filter, time\n",
    "print(params[2])\n",
    "print(params[0])\n",
    "print()\n",
    "\n",
    "# Can be unpacked\n",
    "dt, filter_name, t = params\n",
    "print(\"{} seconds on filter {} at {}\".format(dt, filter_name, t))"
   ]
  },
  {
   "cell_type": "code",
   "execution_count": 10,
   "metadata": {
    "collapsed": false
   },
   "outputs": [
    {
     "name": "stdout",
     "output_type": "stream",
     "text": [
      "['u', 'r', 'u', 'g', 'r', 'r', 'g', 'i', 'z', 'y', 'o', 'u', '']\n",
      "{'r', 'y', 'g', 'z', 'o', 'i', 'u'}\n"
     ]
    }
   ],
   "source": [
    "# Sets\n",
    "filters_used = ['u', 'r','u', 'g','r','r','g','i','z','y','o','u','']\n",
    "print(filters_used)\n",
    "\n",
    "filters_used = {'u', 'r','u', 'g','r','r','g','i','z','y','o','u'}\n",
    "print(filters_used)"
   ]
  },
  {
   "cell_type": "markdown",
   "metadata": {},
   "source": [
    "## `collections`\n",
    "\n",
    "The [`collections`](https://docs.python.org/3.6/library/collections.html) module is part of the standard library and contains a few extra \"container datatypes\" that can be useful."
   ]
  },
  {
   "cell_type": "markdown",
   "metadata": {},
   "source": [
    "##### OrderedDict\n",
    "\n",
    "A dictonary...but ordered!"
   ]
  },
  {
   "cell_type": "code",
   "execution_count": 11,
   "metadata": {
    "collapsed": false
   },
   "outputs": [
    {
     "name": "stdout",
     "output_type": "stream",
     "text": [
      "{'apple': 4, 'pear': 1, 'banana': 3, 'orange': 2}\n",
      "OrderedDict([('apple', 4), ('banana', 3), ('orange', 2), ('pear', 1)])\n"
     ]
    }
   ],
   "source": [
    "from collections import OrderedDict\n",
    "\n",
    "# regular unsorted dictionary\n",
    "d = {'banana': 3, 'apple': 4, 'pear': 1, 'orange': 2}\n",
    "print(d)\n",
    "\n",
    "# dictionary sorted by key\n",
    "od = OrderedDict(sorted(d.items(), key=lambda t: t[0]))\n",
    "print(od)"
   ]
  },
  {
   "cell_type": "markdown",
   "metadata": {},
   "source": [
    "##### `deque`\n",
    "\n",
    "A left-to-right queue. [From the docs]:(https://docs.python.org/3.6/library/collections.html#collections.deque):\n",
    "\n",
    "*Deques are a generalization of stacks and queues (the name is pronounced “deck” and is short for “double-ended queue”). Deques support thread-safe, memory efficient appends and pops from either side of the deque with approximately the same O(1) performance in either direction.*\n",
    "\n",
    "*Though list objects support similar operations, they are optimized for fast fixed-length operations and incur O(n) memory movement costs for pop(0) and insert(0, v) operations which change both the size and position of the underlying data representation.*"
   ]
  },
  {
   "cell_type": "code",
   "execution_count": 12,
   "metadata": {
    "collapsed": false
   },
   "outputs": [],
   "source": [
    "from collections import deque\n",
    "import itertools\n",
    "\n",
    "def moving_average(iterable, n=3):\n",
    "    # moving_average([40, 30, 50, 46, 39, 44]) --> 40.0 42.0 45.0 43.0\n",
    "    # http://en.wikipedia.org/wiki/Moving_average\n",
    "    it = iter(iterable)\n",
    "    d = deque(itertools.islice(it, n-1))\n",
    "    d.appendleft(0)\n",
    "    s = sum(d)\n",
    "    for elem in it:\n",
    "        s += elem - d.popleft()\n",
    "        d.append(elem)\n",
    "        yield s / n"
   ]
  },
  {
   "cell_type": "code",
   "execution_count": 13,
   "metadata": {
    "collapsed": false
   },
   "outputs": [
    {
     "name": "stdout",
     "output_type": "stream",
     "text": [
      "[0.6682883628616377, 0.713290933064815, 0.4961258426226709, 0.3640964300697986, 0.5326833570256937]\n"
     ]
    }
   ],
   "source": [
    "# Do a moving average\n",
    "values = [random.random() for x in np.arange(100)]\n",
    "ma = [x1 for x1 in moving_average(values)]\n",
    "print(ma[0:5])        "
   ]
  },
  {
   "cell_type": "code",
   "execution_count": 14,
   "metadata": {
    "collapsed": false
   },
   "outputs": [
    {
     "data": {
      "text/plain": [
       "<matplotlib.text.Text at 0x7fa1ca303400>"
      ]
     },
     "execution_count": 14,
     "metadata": {},
     "output_type": "execute_result"
    },
    {
     "data": {
      "image/png": "[encoded data removed]",
      "text/plain": [
       "<matplotlib.figure.Figure at 0x7fa1cc42c208>"
      ]
     },
     "metadata": {},
     "output_type": "display_data"
    }
   ],
   "source": [
    "%matplotlib inline\n",
    "domain = slice(0, 20)\n",
    "\n",
    "plt.figure(figsize=(12,8))\n",
    "\n",
    "plt.plot(values[domain], lw=2, label='Values')\n",
    "\n",
    "for n in [3,4,5]:\n",
    "        plt.plot(\n",
    "            [x1 for x1 in moving_average(values, n=n)][domain], \n",
    "            '--', \n",
    "            alpha=0.75, \n",
    "            label='MA n={}'.format(n)\n",
    "        )\n",
    "plt.legend()\n",
    "plt.title(\"Moving Averages\")"
   ]
  },
  {
   "cell_type": "markdown",
   "metadata": {},
   "source": [
    "##### `Counter`\n",
    "\n",
    "Count stuff"
   ]
  },
  {
   "cell_type": "code",
   "execution_count": 15,
   "metadata": {
    "collapsed": false
   },
   "outputs": [
    {
     "name": "stdout",
     "output_type": "stream",
     "text": [
      "['u', 'i', 'z', 'y', 'o', 'u', 'r', 'u', 'g', 'r', 'r', 'g', 'i', 'z', 'y', 'o', 'u']\n",
      "\n",
      "Filter: u Count: 4\n",
      "Filter: r Count: 3\n",
      "Filter: y Count: 2\n"
     ]
    }
   ],
   "source": [
    "from collections import Counter\n",
    "\n",
    "filters_used = ['u','i','z','y','o','u','r','u', 'g','r','r','g','i','z','y','o','u']\n",
    "print(filters_used)\n",
    "print()\n",
    "\n",
    "c = Counter(filters_used)\n",
    "\n",
    "for f in c.most_common(3):\n",
    "    print(\"Filter: {} Count: {}\".format(\n",
    "        f[0], f[1])  # Access the elements like a tuple\n",
    "    )"
   ]
  },
  {
   "cell_type": "markdown",
   "metadata": {},
   "source": [
    "##### namedtuple\n",
    "\n",
    "More than a `dict`, it's `namedtuple`! For more excitement, read [here](https://docs.python.org/3.6/library/collections.html#collections.namedtuple)!"
   ]
  },
  {
   "cell_type": "code",
   "execution_count": 16,
   "metadata": {
    "collapsed": false
   },
   "outputs": [
    {
     "name": "stdout",
     "output_type": "stream",
     "text": [
      "Observation(date=<Time object: scale='utc' format='isot' value=2017-06-03T12:34:56.000>, filters=['r', 'g', 'b'], flux=[])\n",
      "Observation(date=<Time object: scale='utc' format='isot' value=2017-06-03T12:34:56.000>, filters=['H-α'], flux=[])\n"
     ]
    }
   ],
   "source": [
    "from collections import namedtuple\n",
    "\n",
    "Observation = namedtuple('Observation', ['date', 'filters', 'flux'])\n",
    "\n",
    "obs_broad = Observation(Time(\"2017-06-03T12:34:56.0\"), filters, flux=[])\n",
    "obs_narrow = Observation(Time(\"2017-06-03T12:34:56.0\"), ['H-α'], flux=[])\n",
    "\n",
    "print(obs_broad)\n",
    "print(obs_narrow)"
   ]
  },
  {
   "cell_type": "code",
   "execution_count": 17,
   "metadata": {
    "collapsed": false
   },
   "outputs": [
    {
     "name": "stdout",
     "output_type": "stream",
     "text": [
      "R: 132.30\n",
      "R: 117.00\n",
      "R:  93.60\n"
     ]
    }
   ],
   "source": [
    "for dt in np.arange(100):\n",
    "    obs_broad.flux.append({\n",
    "        'date-obs': obs_broad.date + (dt * u.second), \n",
    "        'r': random.randint(70, 150) * .9, \n",
    "        'g': random.randint(70, 150) * .97, \n",
    "        'b': random.randint(70, 150) * .8\n",
    "    })\n",
    "    \n",
    "for flux in obs_broad.flux[0:3]:           # Observation namedtuple has dot (.) access\n",
    "    print(\"R: {:6.02f}\".format(flux['r'])) # Regular dictionary is key access"
   ]
  },
  {
   "cell_type": "markdown",
   "metadata": {},
   "source": [
    "### JSON and YAML\n",
    "\n",
    "String representations of basic data structures. Have a dictionary in Python and want to load it in R. Or Java? Or Fortran 95? \n",
    "\n",
    "Have one script which scrubs your data, another that calibrates, and one that processes? Want to store metadata between runs? Need to configure the script?"
   ]
  },
  {
   "cell_type": "code",
   "execution_count": 18,
   "metadata": {
    "collapsed": true
   },
   "outputs": [],
   "source": [
    "import json\n",
    "import yaml"
   ]
  },
  {
   "cell_type": "markdown",
   "metadata": {},
   "source": [
    "##### YAML\n",
    "\n",
    "YAML files are very human-readable. Good for configuration files for your scripts"
   ]
  },
  {
   "cell_type": "code",
   "execution_count": 19,
   "metadata": {
    "collapsed": false
   },
   "outputs": [
    {
     "name": "stdout",
     "output_type": "stream",
     "text": [
      "-\r\n",
      "    name: Kepler 1100\r\n",
      "    position: 19h27m29.10s +44d05m15.00s\r\n",
      "    priority: 125\r\n",
      "-\r\n",
      "    name: KIC 8462852\r\n",
      "    position: 20h06m15.4536s +44d27m24.75s\r\n",
      "    priority: 200\r\n",
      "-\r\n",
      "    name: HD 189733\r\n",
      "    position: 20h00m43.713s +22d42m39.07s\r\n",
      "    priority: 105\r\n",
      "    exp_time: 100\r\n",
      "-\r\n",
      "    name: HD 209458\r\n",
      "    position: 22h03m10.7721s +18d53m03.543s\r\n",
      "    priority: 100\r\n"
     ]
    }
   ],
   "source": [
    "# Show what the files looks like\n",
    "fn = 'targets.yaml'\n",
    "!head -n 17 $fn"
   ]
  },
  {
   "cell_type": "code",
   "execution_count": 20,
   "metadata": {
    "collapsed": true
   },
   "outputs": [],
   "source": [
    "# Load the file as yaml\n",
    "with open(fn) as f:\n",
    "    targets = yaml.load(f.read())"
   ]
  },
  {
   "cell_type": "code",
   "execution_count": 21,
   "metadata": {
    "collapsed": false,
    "scrolled": true
   },
   "outputs": [
    {
     "name": "stdout",
     "output_type": "stream",
     "text": [
      "[{'name': 'Kepler 1100',\n",
      "  'position': '19h27m29.10s +44d05m15.00s',\n",
      "  'priority': 125},\n",
      " {'name': 'KIC 8462852',\n",
      "  'position': '20h06m15.4536s +44d27m24.75s',\n",
      "  'priority': 200},\n",
      " {'exp_time': 100,\n",
      "  'name': 'HD 189733',\n",
      "  'position': '20h00m43.713s +22d42m39.07s',\n",
      "  'priority': 105},\n",
      " {'name': 'HD 209458',\n",
      "  'position': '22h03m10.7721s +18d53m03.543s',\n",
      "  'priority': 100},\n",
      " {'name': 'Wasp 140', 'position': '04h01m32.54s -20d27m03.9s', 'priority': 100},\n",
      " {'name': 'Wasp 104', 'position': '10h42m24.61s +07d26m06.3s', 'priority': 100},\n",
      " {'name': 'Wasp 44', 'position': '00h15m36.76s -11d56m17.4s', 'priority': 100},\n",
      " {'name': 'Wasp 2', 'position': '20h30m54.0s +06d25m46.0s', 'priority': 100},\n",
      " {'name': 'Wasp 24',\n",
      "  'position': '15h08m51.739s +02d20m35.95s',\n",
      "  'priority': 100},\n",
      " {'name': 'Wasp 77', 'position': '02h28m37.22s -07d03m38.45s', 'priority': 100},\n",
      " {'name': 'Wasp 33',\n",
      "  'position': '02h26m51.0582s +37d33m01.733s',\n",
      "  'priority': 100},\n",
      " {'name': 'Wasp 43',\n",
      "  'position': '10h19m38.008s -09d48m22.59s',\n",
      "  'priority': 100},\n",
      " {'name': 'Wasp 36', 'position': '08h46m19.30s -08d01m36.7s', 'priority': 100},\n",
      " {'name': 'Wasp 11', 'position': '03h09m28.54s +30d40m26.0s', 'priority': 100},\n",
      " {'name': 'Wasp 35', 'position': '05h04m19.56s -06d13m47.2s', 'priority': 100},\n",
      " {'name': 'HAT-P-20', 'position': '07h27m39.89s +24d20m14.7s', 'priority': 100},\n",
      " {'name': 'Qatar-1', 'position': '20h13m32.0s +65d09m43.0s', 'priority': 100},\n",
      " {'name': 'Qatar-2',\n",
      "  'position': '13h50m37.409s -06d48m14.4101s',\n",
      "  'priority': 100},\n",
      " {'name': 'Tres 3',\n",
      "  'position': '17h52m07.02s +37d32m46.2012s',\n",
      "  'priority': 200},\n",
      " {'name': 'EPIC-211089792',\n",
      "  'position': '04h10m40.955s +24d24m07.35s',\n",
      "  'priority': 100},\n",
      " {'name': 'HAT-P-1', 'position': '22h57m47.0s +38d40m30.0s', 'priority': 100},\n",
      " {'name': 'HAT-P-12', 'position': '13h57m33.48s +43d29m36.7s', 'priority': 100},\n",
      " {'name': 'HAT-P-36',\n",
      "  'position': '12h33m03.909s  +44d54m55.18s',\n",
      "  'priority': 100},\n",
      " {'name': 'HAT-P-37',\n",
      "  'position': '18h57m11.058s +51d16m08.8601s',\n",
      "  'priority': 100},\n",
      " {'exp_set_size': 5,\n",
      "  'min_nexp': 10,\n",
      "  'name': 'M42',\n",
      "  'position': '05h35m17.2992s -05d23m27.996s',\n",
      "  'priority': 75},\n",
      " {'name': 'M44', 'position': '08h40m24s +19d40m00.12s', 'priority': 50},\n",
      " {'name': 'M45', 'position': '03h47m24s +24d07m01.20s', 'priority': 50},\n",
      " {'name': 'M5', 'position': '15h18m33.2201s +02d04m51.7008s', 'priority': 50}]\n"
     ]
    }
   ],
   "source": [
    "# We now have a list of dictonaries, each with paramters for the targets\n",
    "pprint(targets)"
   ]
  },
  {
   "cell_type": "code",
   "execution_count": 22,
   "metadata": {
    "collapsed": false
   },
   "outputs": [
    {
     "data": {
      "text/plain": [
       "'Wasp 2'"
      ]
     },
     "execution_count": 22,
     "metadata": {},
     "output_type": "execute_result"
    }
   ],
   "source": [
    "# Get info by array index and key name\n",
    "targets[7]['name']"
   ]
  },
  {
   "cell_type": "markdown",
   "metadata": {},
   "source": [
    "Config files are great examples for YAML. (But see `namedtupled` below!)"
   ]
  },
  {
   "cell_type": "code",
   "execution_count": 23,
   "metadata": {
    "collapsed": true
   },
   "outputs": [],
   "source": [
    "# Load the file as yaml\n",
    "with open('config.yaml') as f:\n",
    "    config = yaml.load(f.read())"
   ]
  },
  {
   "cell_type": "code",
   "execution_count": 24,
   "metadata": {
    "collapsed": false
   },
   "outputs": [
    {
     "data": {
      "text/plain": [
       "{'elevation': 3400.0,\n",
       " 'gmt_offset': -600,\n",
       " 'horizon': 30,\n",
       " 'latitude': 19.54,\n",
       " 'longitude': -155.58,\n",
       " 'name': 'Mauna Loa Observatory',\n",
       " 'timezone': 'US/Hawaii',\n",
       " 'twilight_horizon': -18,\n",
       " 'utc_offset': -10.0}"
      ]
     },
     "execution_count": 24,
     "metadata": {},
     "output_type": "execute_result"
    }
   ],
   "source": [
    "config[\"location\"]"
   ]
  },
  {
   "cell_type": "markdown",
   "metadata": {},
   "source": [
    "##### JSON\n",
    "\n",
    "Similar to YAML in that it stores objects. It is a little more strict. Good for machine-readable code. Can be formatted to print pretty."
   ]
  },
  {
   "cell_type": "code",
   "execution_count": 25,
   "metadata": {
    "collapsed": false
   },
   "outputs": [
    {
     "data": {
      "text/plain": [
       "'[{\"priority\": 125, \"position\": \"19h27m29.10s +44d05m15.00s\", \"name\": \"Kepler 1100\"}, {\"priority\": 200, \"position\": \"20h06m15.4536s +44d27m24.75s\", \"name\": \"KIC 8462852\"}, {\"priority\": 105, \"exp_time\": 100, \"position\": \"20h00m43.713s +22d42m39.07s\", \"name\": \"HD 189733\"}, {\"priority\": 100, \"position\": \"22h03m10.7721s +18d53m03.543s\", \"name\": \"HD 209458\"}, {\"priority\": 100, \"position\": \"04h01m32.54s -20d27m03.9s\", \"name\": \"Wasp 140\"}, {\"priority\": 100, \"position\": \"10h42m24.61s +07d26m06.3s\", \"name\": \"Wasp 104\"}, {\"priority\": 100, \"position\": \"00h15m36.76s -11d56m17.4s\", \"name\": \"Wasp 44\"}, {\"priority\": 100, \"position\": \"20h30m54.0s +06d25m46.0s\", \"name\": \"Wasp 2\"}, {\"priority\": 100, \"position\": \"15h08m51.739s +02d20m35.95s\", \"name\": \"Wasp 24\"}, {\"priority\": 100, \"position\": \"02h28m37.22s -07d03m38.45s\", \"name\": \"Wasp 77\"}, {\"priority\": 100, \"position\": \"02h26m51.0582s +37d33m01.733s\", \"name\": \"Wasp 33\"}, {\"priority\": 100, \"position\": \"10h19m38.008s -09d48m22.59s\", \"name\": \"Wasp 43\"}, {\"priority\": 100, \"position\": \"08h46m19.30s -08d01m36.7s\", \"name\": \"Wasp 36\"}, {\"priority\": 100, \"position\": \"03h09m28.54s +30d40m26.0s\", \"name\": \"Wasp 11\"}, {\"priority\": 100, \"position\": \"05h04m19.56s -06d13m47.2s\", \"name\": \"Wasp 35\"}, {\"priority\": 100, \"position\": \"07h27m39.89s +24d20m14.7s\", \"name\": \"HAT-P-20\"}, {\"priority\": 100, \"position\": \"20h13m32.0s +65d09m43.0s\", \"name\": \"Qatar-1\"}, {\"priority\": 100, \"position\": \"13h50m37.409s -06d48m14.4101s\", \"name\": \"Qatar-2\"}, {\"priority\": 200, \"position\": \"17h52m07.02s +37d32m46.2012s\", \"name\": \"Tres 3\"}, {\"priority\": 100, \"position\": \"04h10m40.955s +24d24m07.35s\", \"name\": \"EPIC-211089792\"}, {\"priority\": 100, \"position\": \"22h57m47.0s +38d40m30.0s\", \"name\": \"HAT-P-1\"}, {\"priority\": 100, \"position\": \"13h57m33.48s +43d29m36.7s\", \"name\": \"HAT-P-12\"}, {\"priority\": 100, \"position\": \"12h33m03.909s  +44d54m55.18s\", \"name\": \"HAT-P-36\"}, {\"priority\": 100, \"position\": \"18h57m11.058s +51d16m08.8601s\", \"name\": \"HAT-P-37\"}, {\"priority\": 75, \"name\": \"M42\", \"exp_set_size\": 5, \"min_nexp\": 10, \"position\": \"05h35m17.2992s -05d23m27.996s\"}, {\"priority\": 50, \"position\": \"08h40m24s +19d40m00.12s\", \"name\": \"M44\"}, {\"priority\": 50, \"position\": \"03h47m24s +24d07m01.20s\", \"name\": \"M45\"}, {\"priority\": 50, \"position\": \"15h18m33.2201s +02d04m51.7008s\", \"name\": \"M5\"}]'"
      ]
     },
     "execution_count": 25,
     "metadata": {},
     "output_type": "execute_result"
    }
   ],
   "source": [
    "json.dumps(targets)"
   ]
  },
  {
   "cell_type": "markdown",
   "metadata": {},
   "source": [
    "##### namedtupled\n",
    "\n",
    "Ohh, shiny. Read more [here](https://namedtupled.readthedocs.io/en/latest/)."
   ]
  },
  {
   "cell_type": "code",
   "execution_count": 26,
   "metadata": {
    "collapsed": true
   },
   "outputs": [],
   "source": [
    "import namedtupled"
   ]
  },
  {
   "cell_type": "code",
   "execution_count": 27,
   "metadata": {
    "collapsed": false
   },
   "outputs": [],
   "source": [
    "stars = namedtupled.map(targets)"
   ]
  },
  {
   "cell_type": "code",
   "execution_count": 28,
   "metadata": {
    "collapsed": false
   },
   "outputs": [
    {
     "data": {
      "text/plain": [
       "'Wasp 2'"
      ]
     },
     "execution_count": 28,
     "metadata": {},
     "output_type": "execute_result"
    }
   ],
   "source": [
    "stars[7].name"
   ]
  },
  {
   "cell_type": "code",
   "execution_count": 29,
   "metadata": {
    "collapsed": false
   },
   "outputs": [
    {
     "name": "stdout",
     "output_type": "stream",
     "text": [
      "Kepler 1100     19h27m29.10s +44d05m15.00s\n",
      "M44             08h40m24s +19d40m00.12s\n"
     ]
    }
   ],
   "source": [
    "good_stars = ['Kepler 1100', 'M44']\n",
    "\n",
    "for star in stars:\n",
    "    if star.name in good_stars:\n",
    "        print(\"{:15s} {}\".format(star.name, star.position)) # Access by name"
   ]
  },
  {
   "cell_type": "code",
   "execution_count": 30,
   "metadata": {
    "collapsed": false
   },
   "outputs": [
    {
     "name": "stdout",
     "output_type": "stream",
     "text": [
      "Kepler 1100           125\t19h27m29.10s +44d05m15.00s\n",
      "KIC 8462852           200\t20h06m15.4536s +44d27m24.75s\n",
      "HD 189733             105\t20h00m43.713s +22d42m39.07s\n",
      "HD 209458             100\t22h03m10.7721s +18d53m03.543s\n",
      "Wasp 140              100\t04h01m32.54s -20d27m03.9s\n",
      "Wasp 104              100\t10h42m24.61s +07d26m06.3s\n",
      "Wasp 44               100\t00h15m36.76s -11d56m17.4s\n",
      "Wasp 2                100\t20h30m54.0s +06d25m46.0s\n",
      "Wasp 24               100\t15h08m51.739s +02d20m35.95s\n",
      "Wasp 77               100\t02h28m37.22s -07d03m38.45s\n",
      "Wasp 33               100\t02h26m51.0582s +37d33m01.733s\n",
      "Wasp 43               100\t10h19m38.008s -09d48m22.59s\n",
      "Wasp 36               100\t08h46m19.30s -08d01m36.7s\n",
      "Wasp 11               100\t03h09m28.54s +30d40m26.0s\n",
      "Wasp 35               100\t05h04m19.56s -06d13m47.2s\n",
      "HAT-P-20              100\t07h27m39.89s +24d20m14.7s\n",
      "Qatar-1               100\t20h13m32.0s +65d09m43.0s\n",
      "Qatar-2               100\t13h50m37.409s -06d48m14.4101s\n",
      "Tres 3                200\t17h52m07.02s +37d32m46.2012s\n",
      "EPIC-211089792        100\t04h10m40.955s +24d24m07.35s\n",
      "HAT-P-1               100\t22h57m47.0s +38d40m30.0s\n",
      "HAT-P-12              100\t13h57m33.48s +43d29m36.7s\n",
      "HAT-P-36              100\t12h33m03.909s  +44d54m55.18s\n",
      "HAT-P-37              100\t18h57m11.058s +51d16m08.8601s\n",
      "M42                    75\t05h35m17.2992s -05d23m27.996s\n",
      "M44                    50\t08h40m24s +19d40m00.12s\n",
      "M45                    50\t03h47m24s +24d07m01.20s\n",
      "M5                     50\t15h18m33.2201s +02d04m51.7008s\n"
     ]
    }
   ],
   "source": [
    "# Do the same thing directly from a file\n",
    "stars2 = namedtupled.yaml(path=fn)\n",
    "\n",
    "for star in stars2:\n",
    "    print(\"{:20} {:4}\\t{}\".format(\n",
    "        star.name, \n",
    "        star.priority, \n",
    "        star.position\n",
    "    ))"
   ]
  },
  {
   "cell_type": "code",
   "execution_count": 31,
   "metadata": {
    "collapsed": false
   },
   "outputs": [
    {
     "data": {
      "text/plain": [
       "'Wasp 2'"
      ]
     },
     "execution_count": 31,
     "metadata": {},
     "output_type": "execute_result"
    }
   ],
   "source": [
    "stars[7].name"
   ]
  },
  {
   "cell_type": "markdown",
   "metadata": {},
   "source": [
    "What about the config file?"
   ]
  },
  {
   "cell_type": "code",
   "execution_count": 32,
   "metadata": {
    "collapsed": false
   },
   "outputs": [
    {
     "name": "stdout",
     "output_type": "stream",
     "text": [
      "PAN007 unit location: Mauna Loa Observatory\n"
     ]
    }
   ],
   "source": [
    "config = namedtupled.yaml(path='config.yaml')\n",
    "\n",
    "print(\"{} unit location: {}\".format(\n",
    "    config.name, \n",
    "    config.location.name\n",
    "))"
   ]
  },
  {
   "cell_type": "markdown",
   "metadata": {},
   "source": [
    "But what if we want to do stuff with these parameters and collections?\n",
    "\n",
    "### And now, a full example...\n",
    "\n",
    "Let's make a class to make our life easier! Yay! [Exoplanet Class example](Exoplanet+Info.ipynb)"
   ]
  }
 ],
 "metadata": {
  "kernelspec": {
   "display_name": "Python [conda root]",
   "language": "python",
   "name": "conda-root-py"
  },
  "language_info": {
   "codemirror_mode": {
    "name": "ipython",
    "version": 3
   },
   "file_extension": ".py",
   "mimetype": "text/x-python",
   "name": "python",
   "nbconvert_exporter": "python",
   "pygments_lexer": "ipython3",
   "version": "3.5.2"
  }
 },
 "nbformat": 4,
 "nbformat_minor": 2
}
