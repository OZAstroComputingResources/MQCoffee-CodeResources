{
 "cells": [
  {
   "cell_type": "code",
   "execution_count": 1,
   "metadata": {
    "collapsed": true
   },
   "outputs": [],
   "source": [
    "from astropy.time import Time\n",
    "from astropy.io import fits\n",
    "from glob import glob\n",
    "\n",
    "import exoplanet"
   ]
  },
  {
   "cell_type": "code",
   "execution_count": 2,
   "metadata": {
    "collapsed": false
   },
   "outputs": [
    {
     "name": "stdout",
     "output_type": "stream",
     "text": [
      "Downloading https://github.com/OpenExoplanetCatalogue/oec_gzip/raw/master/systems.xml.gz [Done]\n",
      "Downloading https://github.com/OpenExoplanetCatalogue/oec_gzip/raw/master/systems.xml.gz [Done]\n"
     ]
    }
   ],
   "source": [
    "star = exoplanet.Star('TrES-3')"
   ]
  },
  {
   "cell_type": "code",
   "execution_count": 3,
   "metadata": {
    "collapsed": false
   },
   "outputs": [
    {
     "data": {
      "text/plain": [
       "2455358.86636"
      ]
     },
     "execution_count": 3,
     "metadata": {},
     "output_type": "execute_result"
    }
   ],
   "source": [
    "star.planet.transittime"
   ]
  },
  {
   "cell_type": "code",
   "execution_count": 4,
   "metadata": {
    "collapsed": false
   },
   "outputs": [
    {
     "name": "stderr",
     "output_type": "stream",
     "text": [
      "/home/wtgee/CoffeeCode/CoffeeCode/Classes-and-DataStructures/exoplanet.py:100: RuntimeWarning: invalid value encountered in arcsin\n",
      "  ) / (1 - np.cos(i)**2)\n"
     ]
    },
    {
     "data": {
      "text/plain": [
       "90.666291140986"
      ]
     },
     "execution_count": 4,
     "metadata": {},
     "output_type": "execute_result"
    }
   ],
   "source": [
    "star.planet.transit_duration"
   ]
  },
  {
   "cell_type": "code",
   "execution_count": 5,
   "metadata": {
    "collapsed": false
   },
   "outputs": [
    {
     "name": "stdout",
     "output_type": "stream",
     "text": [
      "Depth: 2.49%\n"
     ]
    }
   ],
   "source": [
    "print(\"Depth: {:.02%}\".format(star.planet.transit_depth))"
   ]
  },
  {
   "cell_type": "code",
   "execution_count": 6,
   "metadata": {
    "collapsed": false
   },
   "outputs": [
    {
     "name": "stdout",
     "output_type": "stream",
     "text": [
      "2017-05-29T18:50:53.319\n",
      "2017-05-31T02:11:47.796\n",
      "2017-06-01T09:32:42.274\n",
      "2017-06-02T16:53:36.751\n",
      "2017-06-04T00:14:31.228\n",
      "2017-06-05T07:35:25.706\n",
      "2017-06-06T14:56:20.183\n",
      "2017-06-07T22:17:14.660\n",
      "2017-06-09T05:38:09.138\n"
     ]
    }
   ],
   "source": [
    "start_time = Time('2017-06-01')\n",
    "end_time = Time('2017-06-10')\n",
    "\n",
    "for t in star.planet.transits_in_range(start_time, end_time):\n",
    "    print(t.ingress)"
   ]
  },
  {
   "cell_type": "markdown",
   "metadata": {},
   "source": [
    "Search ours FTIS files to see if we captured a transit\n"
   ]
  },
  {
   "cell_type": "code",
   "execution_count": 7,
   "metadata": {
    "collapsed": false
   },
   "outputs": [
    {
     "data": {
      "text/plain": [
       "53"
      ]
     },
     "execution_count": 7,
     "metadata": {},
     "output_type": "execute_result"
    }
   ],
   "source": [
    "fits_list = glob('/var/panoptes/images/fields/20170607T071053/*.fz', recursive=True)\n",
    "\n",
    "fits_list.sort()\n",
    "len(fits_list)"
   ]
  },
  {
   "cell_type": "code",
   "execution_count": 9,
   "metadata": {
    "collapsed": false
   },
   "outputs": [
    {
     "name": "stdout",
     "output_type": "stream",
     "text": [
      "....................................................."
     ]
    }
   ],
   "source": [
    "for f in fits_list:\n",
    "    if f.endswith('.fz'):\n",
    "        ext = 1\n",
    "    else:\n",
    "        ext = 0\n",
    "        \n",
    "    t1 = fits.getval(f, 'DATE-OBS', ext=ext)\n",
    "    if star.planet.in_transit(t1):\n",
    "        print(t1, f)\n",
    "    else:\n",
    "        print('.', end='')"
   ]
  }
 ],
 "metadata": {
  "kernelspec": {
   "display_name": "Python [conda root]",
   "language": "python",
   "name": "conda-root-py"
  },
  "language_info": {
   "codemirror_mode": {
    "name": "ipython",
    "version": 3
   },
   "file_extension": ".py",
   "mimetype": "text/x-python",
   "name": "python",
   "nbconvert_exporter": "python",
   "pygments_lexer": "ipython3",
   "version": "3.5.2"
  }
 },
 "nbformat": 4,
 "nbformat_minor": 2
}
