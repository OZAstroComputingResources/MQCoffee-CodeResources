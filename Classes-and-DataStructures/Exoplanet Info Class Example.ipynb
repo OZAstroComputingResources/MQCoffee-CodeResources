{
 "cells": [
  {
   "cell_type": "code",
   "execution_count": 1,
   "metadata": {
    "collapsed": true
   },
   "outputs": [],
   "source": [
    "# Download the basics\n",
    "from astropy.utils.data import download_file\n",
    "from astropy.time import Time, TimeDelta\n",
    "import xml.etree.ElementTree as ET, gzip, io\n",
    "\n",
    "from glob import glob\n",
    "\n",
    "from piaa import exoplanets\n",
    "\n",
    "from astropy.io import fits\n",
    "from astropy import units as u\n",
    "from astropy import constants\n",
    "from astropy.time import Time, TimeDelta\n",
    "import numpy as np\n",
    "import urllib"
   ]
  },
  {
   "cell_type": "code",
   "execution_count": 2,
   "metadata": {
    "collapsed": false
   },
   "outputs": [
    {
     "name": "stdout",
     "output_type": "stream",
     "text": [
      "Downloading https://github.com/OpenExoplanetCatalogue/oec_gzip/raw/master/systems.xml.gz [Done]\n"
     ]
    }
   ],
   "source": [
    "# Download the OEC file to use\n",
    "url = \"https://github.com/OpenExoplanetCatalogue/oec_gzip/raw/master/systems.xml.gz\"\n",
    "oec_file = download_file(url)"
   ]
  },
  {
   "cell_type": "markdown",
   "metadata": {},
   "source": [
    "### OEC Class\n",
    "\n",
    "Wrap the [OpenExoplanetCatalogue](https://github.com/OpenExoplanetCatalogue/open_exoplanet_catalogue) to make it easier to work with in scripts. You can see their [example](https://github.com/OpenExoplanetCatalogue/open_exoplanet_catalogue#how-to-access-the-catalogue-using-python).\n",
    "\n",
    "We are simply going to make it easier to work with, anticipating we will use it a lot."
   ]
  },
  {
   "cell_type": "markdown",
   "metadata": {},
   "source": [
    "### Transit namedtuple\n",
    "\n",
    "[`namedtuple`s](https://docs.python.org/3.6/library/collections.html#collections.namedtuple) are great for collections of properties about something. Here we make a simple representation of some transit properties"
   ]
  },
  {
   "cell_type": "code",
   "execution_count": 3,
   "metadata": {
    "collapsed": true
   },
   "outputs": [],
   "source": [
    "from collections import namedtuple\n",
    "\n",
    "Transit = namedtuple('Transit', ['ingress', 'midpoint', 'egress'])"
   ]
  },
  {
   "cell_type": "markdown",
   "metadata": {},
   "source": [
    "#### Base class\n",
    "\n",
    "We make a base class that will handle all the basic properties that are common to both `Star`s and `Exoplanet`s."
   ]
  },
  {
   "cell_type": "code",
   "execution_count": 4,
   "metadata": {
    "collapsed": true
   },
   "outputs": [],
   "source": [
    "class OEC(object):\n",
    "    def __init__(self, file=None, *args, **kwargs):\n",
    "        \"\"\" Base object for the OpenExoplanetCatalogue \n",
    "    \n",
    "        The object can load from a local file or will alternatively download\n",
    "        the lastest catalogue from the OEC.\n",
    "        \"\"\"\n",
    "        if file is None:\n",
    "            url = \"https://github.com/OpenExoplanetCatalogue/oec_gzip/raw/master/systems.xml.gz\"\n",
    "            file = io.BytesIO(urllib.request.urlopen(url).read())\n",
    "            self.oec = ET.parse(gzip.GzipFile(fileobj=file))        \n",
    "        else:\n",
    "            self.oec = ET.parse(gzip.GzipFile(filename=file))\n",
    "            \n",
    "        self.names = list()\n",
    "\n",
    "    def _build_properties(self, element):\n",
    "        for elem in element:\n",
    "            if elem.tag != 'name':\n",
    "                try:\n",
    "                    setattr(self, elem.tag, float(elem.text))\n",
    "                except ValueError:\n",
    "                    setattr(self, elem.tag, elem.text)\n",
    "                except AttributeError:\n",
    "                    pass\n",
    "                except TypeError:\n",
    "                    pass\n",
    "            else:\n",
    "                self.names.append(elem.text)        \n",
    "\n",
    "    @property\n",
    "    def name(self):\n",
    "        return self.names[0]                "
   ]
  },
  {
   "cell_type": "markdown",
   "metadata": {},
   "source": [
    "#### `Star` class\n",
    "\n",
    "We inherit from `OEC` and then use the passed `name` lookup the `Star` in the catalogue.\n",
    "\n",
    "A `Star` will automatically look for any `Exoplanet`s that belong to it."
   ]
  },
  {
   "cell_type": "code",
   "execution_count": 5,
   "metadata": {
    "collapsed": true
   },
   "outputs": [],
   "source": [
    "class Star(OEC):\n",
    "    def __init__(self, name, *args, **kwargs):\n",
    "        \"\"\" Lookup information about a star system \"\"\"\n",
    "        super().__init__(*args, **kwargs)\n",
    "        \n",
    "        # Get the star info\n",
    "        self.system = self.oec.findall(\".//system[name='{}']\".format(name))[0]\n",
    "        element = self.system.find('.//star')\n",
    "        self._build_properties(element)\n",
    "\n",
    "        # Search for exoplanets\n",
    "        self.planet = Exoplanet(self.system.find('.//planet'), star=self)"
   ]
  },
  {
   "cell_type": "markdown",
   "metadata": {},
   "source": [
    "#### `Exoplanet` Class\n",
    "\n",
    "Again we inherit from `OEC`. The basic properties for an `Exoplanet` are fairly simply but this class provides a lot of methods for working with an `Exoplanet`."
   ]
  },
  {
   "cell_type": "code",
   "execution_count": 6,
   "metadata": {
    "collapsed": true
   },
   "outputs": [],
   "source": [
    "class Exoplanet(OEC):\n",
    "    def __init__(self, element, star=None, *args, **kwargs):\n",
    "        \"\"\" Object representing an exoplanet\n",
    "        \n",
    "        Note that an `Exoplanet` usually belongs to a `Star`\n",
    "        \"\"\"\n",
    "        super().__init__(*args, **kwargs)\n",
    "        self._build_properties(element)\n",
    "        self.star = star\n",
    "        \n",
    "        self._transit_duration = None\n",
    "        self._b = None\n",
    "        self._transit_depth = None\n",
    "        \n",
    "    @property\n",
    "    def transit_duration(self):\n",
    "        \"\"\" Get transit duration in minutes\n",
    "        \n",
    "        Seager, S., & Mallen-Ornelas, G. (2002). \n",
    "        The Astrophysical Journal, 585, 1038–1055. https://doi.org/10.1086/346105\n",
    "        \"\"\"\n",
    "        if self._transit_duration is None:\n",
    "            i = self.inclination * u.degree\n",
    "            r_s = self.star.radius * u.R_sun\n",
    "            r_p = self.radius * u.R_jup\n",
    "            period = self.period * u.day\n",
    "            a = self.semimajoraxis * u.AU\n",
    "            \n",
    "            self._transit_duration = ((period / np.pi) * np.arcsin(\n",
    "            (r_s / a) * \n",
    "            np.sqrt(\n",
    "                (\n",
    "                    (1 + (r_p / r_s))**2 - \n",
    "                        ((a / r_s) * np.cos(i))**2\n",
    "                ) / (1 - np.cos(i)**2)\n",
    "            )\n",
    "        ).value).to(u.minute).value\n",
    "            \n",
    "        return self._transit_duration\n",
    "    \n",
    "    \n",
    "    @property\n",
    "    def b(self):\n",
    "        \"\"\" Impact parameter b \"\"\"\n",
    "        if self._b is None:\n",
    "            a = (self.semimajoraxis * u.AU).to(u.m)\n",
    "            r_s = (self.star.radius * u.R_sun).to(u.m)\n",
    "            i = self.inclination * u.degree\n",
    "            self._b = (a / r_s) * np.cos(i)\n",
    "            \n",
    "        return self._b\n",
    "    \n",
    "    @property\n",
    "    def impact_parameter(self):\n",
    "        \"\"\" Thin wrapper for impact parameter \"\"\"\n",
    "        return self.b\n",
    "    \n",
    "    @property\n",
    "    def transit_depth(self):\n",
    "        \"\"\" Calculate the transit depth as a percentage \"\"\"\n",
    "        if self._transit_depth is None:\n",
    "            r_s = (self.star.radius * u.R_sun).to(u.m)\n",
    "            r_p = (self.radius * u.R_jup).to(u.m)\n",
    "            self._transit_depth = (r_p / r_s)**2\n",
    "            \n",
    "        return self._transit_depth\n",
    "    \n",
    "    def in_transit(self, t1, with_times=False):\n",
    "        \"\"\" Determine if the exoplanet was in transit at given time \"\"\"\n",
    "        if isinstance(t1, str):\n",
    "            t1 = Time(t1)\n",
    "        \n",
    "        transittime = Time(star.planet.transittime, format='jd')\n",
    "        period_delta = TimeDelta(star.planet.period, format='jd')\n",
    "        \n",
    "        num = int((t1 - transittime).sec // period_delta.sec)\n",
    "        in_transit = False\n",
    "\n",
    "        for n in range(num, num+2):\n",
    "            midpoint = transittime + (n * period_delta)\n",
    "            ingress = midpoint - (self.transit_duration * u.minute / 2)\n",
    "            egress = midpoint + (self.transit_duration * u.minute / 2)\n",
    "\n",
    "            in_transit = t1 >= ingress and t1 <= egress\n",
    "            \n",
    "            if in_transit:\n",
    "                break\n",
    "        \n",
    "        if with_times:\n",
    "            return (in_transit, Transit(ingress.isot, midpoint.isot, egress.isot))\n",
    "        else:\n",
    "            return in_transit\n",
    "        \n",
    "    def transits_in_range(self, t0, t1, num_of_transits=10):\n",
    "        \"\"\" Determine if exoplanet transited in range of dates \"\"\"\n",
    "        if isinstance(t0, str):\n",
    "            t0 = Time(t0)\n",
    "\n",
    "        if isinstance(t1, str):\n",
    "            t1 = Time(t1)\n",
    "\n",
    "        transittime = Time(star.planet.transittime, format='jd')\n",
    "        period_delta = TimeDelta(star.planet.period, format='jd')\n",
    "        \n",
    "        # Get nearest mid-transit point\n",
    "        num = int((t0 - transittime).sec // period_delta.sec) - 1\n",
    "\n",
    "        transits = list()\n",
    "        \n",
    "        while True:\n",
    "            midpoint = transittime + (num * period_delta)\n",
    "            ingress = midpoint - (self.transit_duration * u.minute / 2)\n",
    "            egress = midpoint + (self.transit_duration * u.minute / 2)\n",
    "            \n",
    "            if ingress > t1:\n",
    "                break\n",
    "            \n",
    "            transits.append(Transit(ingress.isot, midpoint.isot, egress.isot))\n",
    "            \n",
    "            num += 1\n",
    "\n",
    "\n",
    "        return transits"
   ]
  }
 ],
 "metadata": {
  "kernelspec": {
   "display_name": "Python [conda root]",
   "language": "python",
   "name": "conda-root-py"
  },
  "language_info": {
   "codemirror_mode": {
    "name": "ipython",
    "version": 3
   },
   "file_extension": ".py",
   "mimetype": "text/x-python",
   "name": "python",
   "nbconvert_exporter": "python",
   "pygments_lexer": "ipython3",
   "version": "3.5.2"
  }
 },
 "nbformat": 4,
 "nbformat_minor": 1
}
