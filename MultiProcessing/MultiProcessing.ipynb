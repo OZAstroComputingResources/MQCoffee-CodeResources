{
 "cells": [
  {
   "cell_type": "markdown",
   "metadata": {
    "slideshow": {
     "slide_type": "slide"
    }
   },
   "source": [
    "# Multiprocessing, Threads, subprocess, concurrent.futures, asyncio, event loops..."
   ]
  },
  {
   "cell_type": "markdown",
   "metadata": {
    "slideshow": {
     "slide_type": "subslide"
    }
   },
   "source": [
    "### There are lots of names\n",
    "\n",
    "#### (thread, task, process...)"
   ]
  },
  {
   "cell_type": "markdown",
   "metadata": {
    "slideshow": {
     "slide_type": "subslide"
    }
   },
   "source": [
    "### There are a lot of options"
   ]
  },
  {
   "cell_type": "markdown",
   "metadata": {
    "slideshow": {
     "slide_type": "subslide"
    }
   },
   "source": [
    "### Options for what?\n",
    "\n",
    "* Parallel (concurrency)\n",
    "    * Many tasks at same time\n",
    "    * Utilize full CPU\n",
    "* Process control (run scripts and stuff)\n",
    "    * Control command-line scripts from Python\n",
    "    * Control Python from Python\n",
    "\n",
    "\n",
    "Some things are taken from this [good article](https://realpython.com/python-concurrency/)."
   ]
  },
  {
   "cell_type": "markdown",
   "metadata": {
    "slideshow": {
     "slide_type": "slide"
    }
   },
   "source": [
    "### Parallel\n",
    "\n",
    "Reasons for using parallel:\n",
    "\n",
    "* Problem creates or requires too much data for a normal.\n",
    "* Sun would explode before the computation would finish.\n",
    "* Algorithm is easy to parallelize.\n",
    "* The physics itself cannot be simulated with smaller resources.\n",
    "\n",
    "\n",
    "Source: [Effective Computation in Physics](http://shop.oreilly.com/product/0636920033424.do)"
   ]
  },
  {
   "cell_type": "markdown",
   "metadata": {
    "slideshow": {
     "slide_type": "subslide"
    }
   },
   "source": [
    "### Embarrassingly Parallel\n",
    "\n",
    "Tasks are independent from each other but need to do a lot of them.\n",
    "\n",
    "* Summing a very large array"
   ]
  },
  {
   "cell_type": "markdown",
   "metadata": {
    "slideshow": {
     "slide_type": "fragment"
    }
   },
   "source": [
    "* Monte Carlo simulations\n",
    "* Stochastic & Genetic algorithms"
   ]
  },
  {
   "cell_type": "markdown",
   "metadata": {
    "slideshow": {
     "slide_type": "fragment"
    }
   },
   "source": [
    "### _More processors means more fasterer_\n",
    "\n",
    "* Should say \"processes\" not \"processors\".\n",
    "* Should say \"faster\" not \"more fasterer\"."
   ]
  },
  {
   "cell_type": "markdown",
   "metadata": {
    "slideshow": {
     "slide_type": "subslide"
    }
   },
   "source": [
    "### Non-embarrassingly Parallel\n",
    "\n",
    "* Canonical example: inverting a matrix"
   ]
  },
  {
   "cell_type": "markdown",
   "metadata": {
    "slideshow": {
     "slide_type": "slide"
    }
   },
   "source": [
    "### Large-scale problems defined by architecture\n",
    "\n",
    "(nothing to do with Python)\n",
    "\n",
    "* High-performance computing (HPC)\n",
    "    * aka Supercomputers\n",
    "* High-throughput computing (HTC\n",
    "    * aka Distributed Computing"
   ]
  },
  {
   "cell_type": "markdown",
   "metadata": {
    "slideshow": {
     "slide_type": "-"
    }
   },
   "source": [
    "## CPU-Bound vs I/O-Bound\n",
    "\n",
    "* Waiting on the CPU (difficult tasks)\n",
    "-vs-\n",
    "* Waiting on a slow device (network, hard-drive, hardware).\n",
    "\n",
    "_**Opening and closing files is the most expensive thing you can do**_\n",
    "\n",
    "(i.e. you are I/O-bound)"
   ]
  },
  {
   "cell_type": "markdown",
   "metadata": {
    "slideshow": {
     "slide_type": "slide"
    }
   },
   "source": [
    "# Python\n",
    "\n",
    "Two big players:\n",
    "\n",
    "* Threads\n",
    "* Multiprocessing\n"
   ]
  },
  {
   "cell_type": "markdown",
   "metadata": {
    "slideshow": {
     "slide_type": "fragment"
    }
   },
   "source": [
    "`concurrent.futures` is part of standard library and makes using either one easy."
   ]
  },
  {
   "cell_type": "markdown",
   "metadata": {
    "slideshow": {
     "slide_type": "slide"
    }
   },
   "source": [
    "# Threads"
   ]
  },
  {
   "cell_type": "markdown",
   "metadata": {
    "slideshow": {
     "slide_type": "fragment"
    }
   },
   "source": [
    "## **Don't**"
   ]
  },
  {
   "cell_type": "markdown",
   "metadata": {
    "slideshow": {
     "slide_type": "slide"
    }
   },
   "source": [
    "## Multiprocessing"
   ]
  },
  {
   "cell_type": "markdown",
   "metadata": {
    "slideshow": {
     "slide_type": "subslide"
    }
   },
   "source": [
    "## Gotchas\n",
    "\n",
    "* Need to have a `__main__`.  [Read why](https://docs.python.org/3/library/multiprocessing.html#multiprocessing-programming).\n",
    "* Sharing information between processes (use [`Queues` and `Pipes`](https://docs.python.org/3/library/multiprocessing.html#exchanging-objects-between-processes))."
   ]
  },
  {
   "cell_type": "markdown",
   "metadata": {
    "slideshow": {
     "slide_type": "slide"
    }
   },
   "source": [
    "## Examples"
   ]
  },
  {
   "cell_type": "markdown",
   "metadata": {
    "slideshow": {
     "slide_type": "slide"
    }
   },
   "source": [
    "# But first..."
   ]
  },
  {
   "cell_type": "markdown",
   "metadata": {
    "slideshow": {
     "slide_type": "slide"
    }
   },
   "source": [
    "## Process control\n",
    "\n",
    "Not to be confused with processors. Or is it?"
   ]
  },
  {
   "cell_type": "markdown",
   "metadata": {
    "slideshow": {
     "slide_type": "subslide"
    }
   },
   "source": [
    "## `subprocess`\n",
    "\n",
    "When you want to control something else on the command line, e.g. a running script."
   ]
  },
  {
   "cell_type": "code",
   "execution_count": 1,
   "metadata": {
    "slideshow": {
     "slide_type": "subslide"
    }
   },
   "outputs": [
    {
     "name": "stdout",
     "output_type": "stream",
     "text": [
      "#!/bin/bash -e\r\n",
      "\r\n",
      "FILE=${1:-results.txt}\r\n",
      "\r\n",
      "echo \"This script is the best!\"\r\n",
      "\r\n",
      "echo \"Outputting results to ${FILE}\"\r\n",
      "\r\n",
      "echo \"date,result_0,result_1\" &> ${FILE}\r\n",
      "for i in {1..10}; do\r\n",
      "    echo \"$(date +%FT%T),${RANDOM},${RANDOM}\" &>> ${FILE}\r\n",
      "    sleep 1\r\n",
      "done\r\n",
      "\r\n",
      "echo \"I'm all done!\"\r\n"
     ]
    }
   ],
   "source": [
    "!cat long-running-script-with-output.sh"
   ]
  },
  {
   "cell_type": "code",
   "execution_count": 2,
   "metadata": {
    "slideshow": {
     "slide_type": "subslide"
    }
   },
   "outputs": [
    {
     "data": {
      "text/plain": [
       "b\"This script is the best!\\nOutputting results to results.txt\\nI'm all done!\\n\""
      ]
     },
     "execution_count": 2,
     "metadata": {},
     "output_type": "execute_result"
    }
   ],
   "source": [
    "import subprocess\n",
    "import shutil\n",
    "\n",
    "bash = shutil.which('bash')\n",
    "\n",
    "# Name of my script\n",
    "my_super_script = 'long-running-script-with-output.sh'\n",
    "\n",
    "cmd = [bash, my_super_script]\n",
    "\n",
    "# Notice I will block and capture the output\n",
    "proc = subprocess.run(cmd, capture_output=True)\n",
    "\n",
    "proc.stdout"
   ]
  },
  {
   "cell_type": "code",
   "execution_count": 3,
   "metadata": {
    "slideshow": {
     "slide_type": "slide"
    }
   },
   "outputs": [],
   "source": [
    "import pandas as pd\n",
    "\n",
    "# Add an argument to bash script\n",
    "results_file = 'my_results.csv'\n",
    "\n",
    "cmd = [bash, my_super_script, results_file]\n",
    "\n",
    "# Run command and wait for it to finish\n",
    "proc = subprocess.run(cmd, capture_output=True)\n",
    "\n",
    "if proc.returncode != 0:\n",
    "    print(f'AN ERROR IN YOUR FILE')\n",
    "else:\n",
    "    df0 = pd.read_csv(results_file).set_index('date')\n",
    "    df0.index = pd.to_datetime(df0.index)"
   ]
  },
  {
   "cell_type": "code",
   "execution_count": 4,
   "metadata": {
    "slideshow": {
     "slide_type": "subslide"
    }
   },
   "outputs": [
    {
     "data": {
      "text/html": [
       "<div>\n",
       "<style scoped>\n",
       "    .dataframe tbody tr th:only-of-type {\n",
       "        vertical-align: middle;\n",
       "    }\n",
       "\n",
       "    .dataframe tbody tr th {\n",
       "        vertical-align: top;\n",
       "    }\n",
       "\n",
       "    .dataframe thead th {\n",
       "        text-align: right;\n",
       "    }\n",
       "</style>\n",
       "<table border=\"1\" class=\"dataframe\">\n",
       "  <thead>\n",
       "    <tr style=\"text-align: right;\">\n",
       "      <th></th>\n",
       "      <th>result_0</th>\n",
       "      <th>result_1</th>\n",
       "    </tr>\n",
       "    <tr>\n",
       "      <th>date</th>\n",
       "      <th></th>\n",
       "      <th></th>\n",
       "    </tr>\n",
       "  </thead>\n",
       "  <tbody>\n",
       "    <tr>\n",
       "      <th>2019-07-04 14:53:35</th>\n",
       "      <td>16361</td>\n",
       "      <td>26422</td>\n",
       "    </tr>\n",
       "    <tr>\n",
       "      <th>2019-07-04 14:53:36</th>\n",
       "      <td>15866</td>\n",
       "      <td>9022</td>\n",
       "    </tr>\n",
       "    <tr>\n",
       "      <th>2019-07-04 14:53:37</th>\n",
       "      <td>15502</td>\n",
       "      <td>20410</td>\n",
       "    </tr>\n",
       "    <tr>\n",
       "      <th>2019-07-04 14:53:38</th>\n",
       "      <td>24398</td>\n",
       "      <td>2061</td>\n",
       "    </tr>\n",
       "    <tr>\n",
       "      <th>2019-07-04 14:53:39</th>\n",
       "      <td>15878</td>\n",
       "      <td>32230</td>\n",
       "    </tr>\n",
       "    <tr>\n",
       "      <th>2019-07-04 14:53:40</th>\n",
       "      <td>17431</td>\n",
       "      <td>22895</td>\n",
       "    </tr>\n",
       "    <tr>\n",
       "      <th>2019-07-04 14:53:41</th>\n",
       "      <td>3212</td>\n",
       "      <td>27493</td>\n",
       "    </tr>\n",
       "    <tr>\n",
       "      <th>2019-07-04 14:53:42</th>\n",
       "      <td>21348</td>\n",
       "      <td>22286</td>\n",
       "    </tr>\n",
       "    <tr>\n",
       "      <th>2019-07-04 14:53:43</th>\n",
       "      <td>22812</td>\n",
       "      <td>23650</td>\n",
       "    </tr>\n",
       "    <tr>\n",
       "      <th>2019-07-04 14:53:44</th>\n",
       "      <td>12520</td>\n",
       "      <td>27255</td>\n",
       "    </tr>\n",
       "  </tbody>\n",
       "</table>\n",
       "</div>"
      ],
      "text/plain": [
       "                     result_0  result_1\n",
       "date                                   \n",
       "2019-07-04 14:53:35     16361     26422\n",
       "2019-07-04 14:53:36     15866      9022\n",
       "2019-07-04 14:53:37     15502     20410\n",
       "2019-07-04 14:53:38     24398      2061\n",
       "2019-07-04 14:53:39     15878     32230\n",
       "2019-07-04 14:53:40     17431     22895\n",
       "2019-07-04 14:53:41      3212     27493\n",
       "2019-07-04 14:53:42     21348     22286\n",
       "2019-07-04 14:53:43     22812     23650\n",
       "2019-07-04 14:53:44     12520     27255"
      ]
     },
     "execution_count": 4,
     "metadata": {},
     "output_type": "execute_result"
    }
   ],
   "source": [
    "df0"
   ]
  },
  {
   "cell_type": "code",
   "execution_count": 7,
   "metadata": {
    "slideshow": {
     "slide_type": "subslide"
    }
   },
   "outputs": [
    {
     "data": {
      "image/png": "[encoded data removed]",
      "text/plain": [
       "<Figure size 921.6x633.6 with 1 Axes>"
      ]
     },
     "metadata": {},
     "output_type": "display_data"
    }
   ],
   "source": [
    "%matplotlib inline\n",
    "from matplotlib import pyplot as plt\n",
    "plt.style.use('seaborn-darkgrid')\n",
    "plt.style.use('seaborn-poster')\n",
    "\n",
    "df0.plot(label='Data', title='My results', legend=True);"
   ]
  }
 ],
 "metadata": {
  "celltoolbar": "Slideshow",
  "kernelspec": {
   "display_name": "Python 3",
   "language": "python",
   "name": "python3"
  },
  "language_info": {
   "codemirror_mode": {
    "name": "ipython",
    "version": 3
   },
   "file_extension": ".py",
   "mimetype": "text/x-python",
   "name": "python",
   "nbconvert_exporter": "python",
   "pygments_lexer": "ipython3",
   "version": "3.7.3"
  }
 },
 "nbformat": 4,
 "nbformat_minor": 4
}
