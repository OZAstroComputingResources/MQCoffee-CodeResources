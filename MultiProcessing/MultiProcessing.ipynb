{
 "cells": [
  {
   "cell_type": "markdown",
   "metadata": {
    "slideshow": {
     "slide_type": "slide"
    }
   },
   "source": [
    "# Multiprocessing, Threads, subprocess, concurrent.futures, asyncio, event loops..."
   ]
  },
  {
   "cell_type": "markdown",
   "metadata": {
    "slideshow": {
     "slide_type": "subslide"
    }
   },
   "source": [
    "### There are lots of names\n",
    "\n",
    "#### (thread, task, process...)"
   ]
  },
  {
   "cell_type": "markdown",
   "metadata": {
    "slideshow": {
     "slide_type": "subslide"
    }
   },
   "source": [
    "### There are a lot of options"
   ]
  },
  {
   "cell_type": "markdown",
   "metadata": {
    "slideshow": {
     "slide_type": "subslide"
    }
   },
   "source": [
    "### Options for what?\n",
    "\n",
    "* Parallel (concurrency)\n",
    "    * Many tasks at same time\n",
    "    * Utilize full CPU\n",
    "* Process control (run scripts and stuff)\n",
    "    * Control command-line scripts from Python\n",
    "    * Control Python from Python\n",
    "\n",
    "\n",
    "Some things are taken from this [good article](https://realpython.com/python-concurrency/)."
   ]
  },
  {
   "cell_type": "markdown",
   "metadata": {
    "slideshow": {
     "slide_type": "slide"
    }
   },
   "source": [
    "### Parallel\n",
    "\n",
    "Reasons for using parallel:\n",
    "\n",
    "* Problem creates or requires too much data for a normal.\n",
    "* Sun would explode before the computation would finish.\n",
    "* Algorithm is easy to parallelize.\n",
    "* The physics itself cannot be simulated with smaller resources.\n",
    "\n",
    "\n",
    "Source: [Effective Computation in Physics](http://shop.oreilly.com/product/0636920033424.do)"
   ]
  },
  {
   "cell_type": "markdown",
   "metadata": {
    "slideshow": {
     "slide_type": "subslide"
    }
   },
   "source": [
    "### Embarrassingly Parallel\n",
    "\n",
    "Tasks are independent from each other but need to do a lot of them.\n",
    "\n",
    "* Summing a very large array"
   ]
  },
  {
   "cell_type": "markdown",
   "metadata": {
    "slideshow": {
     "slide_type": "fragment"
    }
   },
   "source": [
    "* Monte Carlo simulations\n",
    "* Stochastic & Genetic algorithms"
   ]
  },
  {
   "cell_type": "markdown",
   "metadata": {
    "slideshow": {
     "slide_type": "fragment"
    }
   },
   "source": [
    "### _More processors means more fasterer_\n",
    "\n",
    "* Should say \"processes\" not \"processors\".\n",
    "* Should say \"faster\" not \"more fasterer\"."
   ]
  },
  {
   "cell_type": "markdown",
   "metadata": {
    "slideshow": {
     "slide_type": "subslide"
    }
   },
   "source": [
    "### Non-embarrassingly Parallel\n",
    "\n",
    "* Canonical example: inverting a matrix"
   ]
  },
  {
   "cell_type": "markdown",
   "metadata": {
    "slideshow": {
     "slide_type": "slide"
    }
   },
   "source": [
    "### Large-scale problems defined by architecture\n",
    "\n",
    "(nothing to do with Python)\n",
    "\n",
    "* High-performance computing (HPC)\n",
    "    * aka Supercomputers\n",
    "* High-throughput computing (HTC\n",
    "    * aka Distributed Computing"
   ]
  },
  {
   "cell_type": "markdown",
   "metadata": {
    "slideshow": {
     "slide_type": "-"
    }
   },
   "source": [
    "## CPU-Bound vs I/O-Bound\n",
    "\n",
    "* Waiting on the CPU (difficult tasks)\n",
    "-vs-\n",
    "* Waiting on a slow device (network, hard-drive, hardware).\n",
    "\n",
    "_**Opening and closing files is the most expensive thing you can do**_\n",
    "\n",
    "(i.e. you are I/O-bound)"
   ]
  },
  {
   "cell_type": "markdown",
   "metadata": {
    "slideshow": {
     "slide_type": "slide"
    }
   },
   "source": [
    "# Python\n",
    "\n",
    "Two big players:\n",
    "\n",
    "* Threads\n",
    "* Multiprocessing\n"
   ]
  },
  {
   "cell_type": "markdown",
   "metadata": {
    "slideshow": {
     "slide_type": "fragment"
    }
   },
   "source": [
    "`concurrent.futures` is part of standard library and makes using either one easy."
   ]
  },
  {
   "cell_type": "markdown",
   "metadata": {
    "slideshow": {
     "slide_type": "slide"
    }
   },
   "source": [
    "# Threads"
   ]
  },
  {
   "cell_type": "markdown",
   "metadata": {
    "slideshow": {
     "slide_type": "fragment"
    }
   },
   "source": [
    "## **Don't**"
   ]
  },
  {
   "cell_type": "markdown",
   "metadata": {
    "slideshow": {
     "slide_type": "slide"
    }
   },
   "source": [
    "## Multiprocessing"
   ]
  },
  {
   "cell_type": "markdown",
   "metadata": {
    "slideshow": {
     "slide_type": "subslide"
    }
   },
   "source": [
    "## Gotchas\n",
    "\n",
    "* Need to have a `__main__`.  [Read why](https://docs.python.org/3/library/multiprocessing.html#multiprocessing-programming).\n",
    "* Sharing information between processes (use [`Queues` and `Pipes`](https://docs.python.org/3/library/multiprocessing.html#exchanging-objects-between-processes))."
   ]
  },
  {
   "cell_type": "markdown",
   "metadata": {
    "slideshow": {
     "slide_type": "slide"
    }
   },
   "source": [
    "## Examples"
   ]
  }
 ],
 "metadata": {
  "celltoolbar": "Slideshow",
  "kernelspec": {
   "display_name": "Python 3",
   "language": "python",
   "name": "python3"
  },
  "language_info": {
   "codemirror_mode": {
    "name": "ipython",
    "version": 3
   },
   "file_extension": ".py",
   "mimetype": "text/x-python",
   "name": "python",
   "nbconvert_exporter": "python",
   "pygments_lexer": "ipython3",
   "version": "3.7.3"
  }
 },
 "nbformat": 4,
 "nbformat_minor": 4
}
