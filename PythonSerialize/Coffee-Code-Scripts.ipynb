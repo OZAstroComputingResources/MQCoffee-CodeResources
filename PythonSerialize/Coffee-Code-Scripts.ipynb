{
 "cells": [
  {
   "cell_type": "code",
   "execution_count": null,
   "metadata": {
    "slideshow": {
     "slide_type": "slide"
    }
   },
   "outputs": [],
   "source": [
    "%matplotlib inline\n",
    "import os\n",
    "import matplotlib.pyplot as plt\n",
    "import numpy as np\n",
    "import seaborn\n",
    "\n",
    "from IPython.display import HTML, Image\n",
    "\n",
    "plt.style.use('seaborn-darkgrid')"
   ]
  },
  {
   "cell_type": "markdown",
   "metadata": {
    "slideshow": {
     "slide_type": "slide"
    }
   },
   "source": [
    "# Python Data Structures\n",
    "\n",
    "Different types and ways of holding data. Essentially variables.\n",
    "\n",
    "* Built-in common types:\n",
    "    * Scalar (single-value):   \n",
    "        `str`, `int`, `float`, `bool`, `complex`, ...\n",
    "        \n",
    "    * Compound (multi-value):   \n",
    "        `list`, `dict`, `tuple`, `set`, ... \n",
    "        \n",
    "    * Fancy things:  \n",
    "        `datetime`  \n",
    "        [`collections`](https://docs.python.org/3/library/collections.html):    \n",
    "        `namedtuple`, `defaultdict`, `deque`, `Counter`, ...\n",
    "        \n",
    "    * `numpy`:  \n",
    "        `numpy.array`"
   ]
  },
  {
   "cell_type": "markdown",
   "metadata": {
    "slideshow": {
     "slide_type": "subslide"
    }
   },
   "source": [
    "## Scalar\n",
    "\n",
    "Most familiar with these types."
   ]
  },
  {
   "cell_type": "code",
   "execution_count": null,
   "metadata": {
    "slideshow": {
     "slide_type": "-"
    }
   },
   "outputs": [],
   "source": [
    "foo = 42                 # int\n",
    "bar = 'meaning of life'  # str\n",
    "baz = 3.14158            # float\n",
    "bam = False              # bool\n",
    "moo = 42j                # complex uses 'j'"
   ]
  },
  {
   "cell_type": "code",
   "execution_count": null,
   "metadata": {
    "slideshow": {
     "slide_type": "fragment"
    }
   },
   "outputs": [],
   "source": [
    "print(foo * baz)"
   ]
  },
  {
   "cell_type": "code",
   "execution_count": null,
   "metadata": {
    "slideshow": {
     "slide_type": "fragment"
    }
   },
   "outputs": [],
   "source": [
    "print(foo * bar)"
   ]
  },
  {
   "cell_type": "code",
   "execution_count": null,
   "metadata": {
    "slideshow": {
     "slide_type": "fragment"
    }
   },
   "outputs": [],
   "source": [
    "print(foo * bam)"
   ]
  },
  {
   "cell_type": "markdown",
   "metadata": {
    "slideshow": {
     "slide_type": "slide"
    }
   },
   "source": [
    "## Compound\n",
    "\n",
    "Mostly familiar with these types, especially `list` and `dict`."
   ]
  },
  {
   "cell_type": "code",
   "execution_count": null,
   "metadata": {},
   "outputs": [],
   "source": [
    "foo = [1, 2, 3, 4, 5]\n",
    "\n",
    "bar = {\n",
    "    'stars': 1e12,\n",
    "    'galaxies': 1000,\n",
    "    'black_holes': 1\n",
    "}"
   ]
  },
  {
   "cell_type": "code",
   "execution_count": null,
   "metadata": {},
   "outputs": [],
   "source": [
    "print(f\"There are approx {bar['stars']} in a monolith.\")"
   ]
  },
  {
   "cell_type": "code",
   "execution_count": null,
   "metadata": {
    "slideshow": {
     "slide_type": "subslide"
    }
   },
   "outputs": [],
   "source": [
    "Image('https://s.hdnux.com/photos/63/02/07/13377985/3/920x920.jpg')"
   ]
  },
  {
   "cell_type": "code",
   "execution_count": null,
   "metadata": {
    "slideshow": {
     "slide_type": "subslide"
    }
   },
   "outputs": [],
   "source": [
    "for i in foo:\n",
    "    print(i)"
   ]
  },
  {
   "cell_type": "code",
   "execution_count": null,
   "metadata": {},
   "outputs": [],
   "source": [
    "for obj, num in bar.items():\n",
    "    print(f\"There are {num} {obj} in the Milky Way\")"
   ]
  },
  {
   "cell_type": "markdown",
   "metadata": {
    "slideshow": {
     "slide_type": "slide"
    }
   },
   "source": [
    "## More on dictionaries\n",
    "\n",
    "Wilfred says, \"The most useful of data types\"\n",
    "\n",
    "Think of a dictionary as a way to hold and organize all of your other variables but with convenient <span style=\"text-decoration: line-through\">semantic labelling</span> names."
   ]
  },
  {
   "cell_type": "code",
   "execution_count": null,
   "metadata": {},
   "outputs": [],
   "source": [
    "location = {\n",
    "    'name': \"Macquarie University\",\n",
    "    'latitude': 33.7771,      # degrees\n",
    "    'longitude': 151.1180,    # degrees\n",
    "    'elevation': 100,         # meters\n",
    "    'pressure': 1000,         # mbar \n",
    "    'horizon': 30,            # degrees\n",
    "    'timezone': 'Australia/Sydney', \n",
    "}\n",
    "\n",
    "location"
   ]
  },
  {
   "cell_type": "markdown",
   "metadata": {
    "slideshow": {
     "slide_type": "slide"
    }
   },
   "source": [
    "We can then use this dictonary in various ways:"
   ]
  },
  {
   "cell_type": "code",
   "execution_count": null,
   "metadata": {
    "slideshow": {
     "slide_type": "-"
    }
   },
   "outputs": [],
   "source": [
    "from astroplan import Observer\n",
    "from astropy import units as u\n",
    "\n",
    "mqu = Observer(\n",
    "    longitude=location['longitude'] * u.deg,\n",
    "    latitude=location['latitude'] * u.deg,\n",
    "    elevation=location['elevation'] * u.meter,\n",
    "    timezone=location['timezone'],\n",
    "    name=location['name']\n",
    ")\n",
    "\n",
    "mqu"
   ]
  },
  {
   "cell_type": "code",
   "execution_count": null,
   "metadata": {
    "slideshow": {
     "slide_type": "subslide"
    }
   },
   "outputs": [],
   "source": [
    "from astropy.coordinates import SkyCoord\n",
    "from astroplan import FixedTarget\n",
    "from astropy.time import Time\n",
    "from astroplan.plots import plot_airmass \n",
    "\n",
    "alpha_centauri = FixedTarget.from_name('Arcturus')\n",
    "\n",
    "plot_airmass(alpha_centauri, mqu, Time.now() + 1 * u.hour);"
   ]
  },
  {
   "cell_type": "markdown",
   "metadata": {
    "slideshow": {
     "slide_type": "slide"
    }
   },
   "source": [
    "## But...\n",
    "\n",
    "What happens when we need to use this information a number of different scripts or programs?\n",
    "\n",
    "* Copy and paste `location` into every script we run?\n",
    "* What if our `elevation` were incorrect? (Which we only discover after copying-and-pasting 1000 times)"
   ]
  },
  {
   "cell_type": "markdown",
   "metadata": {
    "slideshow": {
     "slide_type": "slide"
    }
   },
   "source": [
    "## Serialization\n",
    "\n",
    "> ...serialization (or serialisation) is the process of translating data structures or object state into a format that can be stored (for example, in a file or memory buffer) or transmitted (for example, across a network connection link) and reconstructed later (possibly in a different computer environment). \n",
    "\n",
    "> When the resulting series of bits is reread according to the serialization format, it can be used to create a semantically identical clone of the original object. \n",
    "\n",
    "https://en.wikipedia.org/wiki/Serialization"
   ]
  },
  {
   "cell_type": "markdown",
   "metadata": {
    "slideshow": {
     "slide_type": "fragment"
    }
   },
   "source": [
    "<span style=\"color: red; font-size: 48px\">Save stuff. Use it later.</span>"
   ]
  },
  {
   "cell_type": "markdown",
   "metadata": {
    "slideshow": {
     "slide_type": "slide"
    }
   },
   "source": [
    "## Pickle\n",
    "\n",
    "Built-in Python serialiation format.\n",
    "\n",
    "* Python only.\n",
    "* Not human readable.\n",
    "* They say it's slow."
   ]
  },
  {
   "cell_type": "markdown",
   "metadata": {
    "slideshow": {
     "slide_type": "slide"
    }
   },
   "source": [
    "## JSON and YAML\n",
    "\n",
    "Easy-peasy serialization.\n",
    "\n",
    "#### JAY-sun\n",
    "JavaScript Object Notation\n",
    "\n",
    "\n",
    "#### /ˈjæməl/  (think camel)\n",
    "Yet Another Markup Language"
   ]
  },
  {
   "cell_type": "markdown",
   "metadata": {
    "slideshow": {
     "slide_type": "subslide"
    }
   },
   "source": [
    "## Advantages\n",
    "\n",
    "* Any language\n",
    "* Human-readable*\n",
    "* Faster\n",
    "\n",
    "*JSON isn't super friendly"
   ]
  },
  {
   "cell_type": "markdown",
   "metadata": {},
   "source": [
    "The basic idea with serialization is to convert your object into a text string*, which can be saved to a regular file.\n",
    "\n",
    "When you want to use the object you deserialize the string and have the same object.\n",
    "\n",
    "Serialize: `object` -> `string`  \n",
    "Deseriialize: `string` -> `object`\n",
    "\n",
    "\n",
    "*Can be converted to bytes (i.e. jsonb), not discussed here."
   ]
  },
  {
   "cell_type": "markdown",
   "metadata": {},
   "source": [
    "### Differences between YAML and JSON\n",
    "\n",
    "[Stolen from here](https://www.json2yaml.com/yaml-vs-json)\n",
    "\n",
    "\n",
    "#### YAML vs JSON\n",
    "YAML is best suited for configuration where JSON is better as a serialization format or serving up data for your APIs.\n",
    "\n",
    "In some cases, YAML has a couple of big advantages over JSON, including:\n",
    "\n",
    "* **comments**\n",
    "* ability to self reference\n",
    "* support for complex datatypes\n",
    "* more...\n",
    "\n",
    "**Write your configuration files in YAML format where you have the opportunity - it is designed to be readable and editable by humans.**"
   ]
  },
  {
   "cell_type": "markdown",
   "metadata": {},
   "source": [
    "#### JSON vs YAML\n",
    "JSON wins as a serialization format. \n",
    "\n",
    "* It is more explicit and more suitable for data interchange between your apis.\n",
    "* YAML is a superset of JSON, which means you can parse JSON with a YAML parser. (Wilfred says \"Don't do this\")\n",
    "* Try mixing JSON and YAML in the same document: `[..., ..]` for annotating arrays and `{ \"foo\" : \"bar\"}` for objects. (Wilfred says \"Don't do this either.\")"
   ]
  },
  {
   "cell_type": "markdown",
   "metadata": {
    "slideshow": {
     "slide_type": "subslide"
    }
   },
   "source": [
    "### JSON\n",
    "\n",
    "Machines talking to machines\n",
    "\n",
    "### YAML\n",
    "\n",
    "Humans talking to machines (and vice versa)"
   ]
  },
  {
   "cell_type": "markdown",
   "metadata": {
    "slideshow": {
     "slide_type": "slide"
    }
   },
   "source": [
    "Let's take another look at our `location` object:"
   ]
  },
  {
   "cell_type": "code",
   "execution_count": null,
   "metadata": {},
   "outputs": [],
   "source": [
    "location"
   ]
  },
  {
   "cell_type": "code",
   "execution_count": null,
   "metadata": {
    "slideshow": {
     "slide_type": "-"
    }
   },
   "outputs": [],
   "source": [
    "import json  # Part of Python standard library\n",
    "\n",
    "json.dumps(location)"
   ]
  },
  {
   "cell_type": "code",
   "execution_count": null,
   "metadata": {},
   "outputs": [],
   "source": [
    "# It is just a string\n",
    "type(json.dumps(location))"
   ]
  },
  {
   "cell_type": "code",
   "execution_count": null,
   "metadata": {
    "slideshow": {
     "slide_type": "subslide"
    }
   },
   "outputs": [],
   "source": [
    "# We can save to a file\n",
    "with open('my_location.json', 'w') as f:\n",
    "    f.write(json.dumps(location))"
   ]
  },
  {
   "cell_type": "code",
   "execution_count": null,
   "metadata": {
    "slideshow": {
     "slide_type": "subslide"
    }
   },
   "outputs": [],
   "source": [
    "# Using shell commands from Jupyter with exclamation point\n",
    "!ls -l"
   ]
  },
  {
   "cell_type": "code",
   "execution_count": null,
   "metadata": {},
   "outputs": [],
   "source": [
    "!cat my_location.json"
   ]
  },
  {
   "cell_type": "code",
   "execution_count": null,
   "metadata": {
    "slideshow": {
     "slide_type": "slide"
    }
   },
   "outputs": [],
   "source": [
    "import yaml  # pip install pyyaml - or pip install ruamel.yaml\n",
    "\n",
    "yaml.dump(location)"
   ]
  },
  {
   "cell_type": "code",
   "execution_count": null,
   "metadata": {},
   "outputs": [],
   "source": [
    "type(yaml.dump(location))"
   ]
  },
  {
   "cell_type": "code",
   "execution_count": null,
   "metadata": {
    "slideshow": {
     "slide_type": "subslide"
    }
   },
   "outputs": [],
   "source": [
    "# We can save to a file\n",
    "with open('my_location.yaml', 'w') as f:\n",
    "    f.write(yaml.dump(location))"
   ]
  },
  {
   "cell_type": "code",
   "execution_count": null,
   "metadata": {},
   "outputs": [],
   "source": [
    "!ls -l"
   ]
  },
  {
   "cell_type": "code",
   "execution_count": null,
   "metadata": {},
   "outputs": [],
   "source": [
    "!cat my_location.yaml"
   ]
  },
  {
   "cell_type": "markdown",
   "metadata": {
    "slideshow": {
     "slide_type": "slide"
    }
   },
   "source": [
    "### YAML as super-fancy persistent dictionary\n",
    "\n",
    "YAML (and JSON) handle all built-in types.*\n",
    "\n",
    "This means it can handle an array in a dict in a dict, etc.\n",
    "\n",
    "\n",
    "*You can also handle fancy types such as `datetime`, `numpy.array`, etc. Only slightly more involved."
   ]
  },
  {
   "cell_type": "code",
   "execution_count": null,
   "metadata": {
    "slideshow": {
     "slide_type": "subslide"
    }
   },
   "outputs": [],
   "source": [
    "foobar = {\n",
    "    'baz': {\n",
    "        'bar': [1, 2, 3, 4, 5],\n",
    "        'bam': [\n",
    "            {'one': 1},\n",
    "            {'two': 2}\n",
    "        ]\n",
    "    },\n",
    "    'moo': 42,\n",
    "    'boo': \"Hello World\"\n",
    "}\n",
    "\n",
    "foobar"
   ]
  },
  {
   "cell_type": "code",
   "execution_count": null,
   "metadata": {},
   "outputs": [],
   "source": [
    "json.dumps(foobar)"
   ]
  },
  {
   "cell_type": "code",
   "execution_count": null,
   "metadata": {},
   "outputs": [],
   "source": [
    "yaml.dump(foobar)"
   ]
  },
  {
   "cell_type": "markdown",
   "metadata": {
    "slideshow": {
     "slide_type": "slide"
    }
   },
   "source": [
    "### A real configuation file\n",
    "\n",
    "Here we write out all of our configuration details in a big YAML file called `config.yaml`."
   ]
  },
  {
   "cell_type": "code",
   "execution_count": null,
   "metadata": {},
   "outputs": [],
   "source": [
    "!cat config.yaml"
   ]
  },
  {
   "cell_type": "markdown",
   "metadata": {
    "slideshow": {
     "slide_type": "slide"
    }
   },
   "source": [
    "Accessing this file is as simple as loading it:"
   ]
  },
  {
   "cell_type": "code",
   "execution_count": null,
   "metadata": {},
   "outputs": [],
   "source": [
    "# Note the use of `safe_load`\n",
    "with open('config.yaml', 'r') as f:\n",
    "    my_config = yaml.safe_load(f.read())"
   ]
  },
  {
   "cell_type": "code",
   "execution_count": null,
   "metadata": {
    "slideshow": {
     "slide_type": "subslide"
    }
   },
   "outputs": [],
   "source": [
    "my_config"
   ]
  },
  {
   "cell_type": "code",
   "execution_count": null,
   "metadata": {
    "slideshow": {
     "slide_type": "subslide"
    }
   },
   "outputs": [],
   "source": [
    "location = my_config['location']\n",
    "\n",
    "location"
   ]
  },
  {
   "cell_type": "markdown",
   "metadata": {
    "slideshow": {
     "slide_type": "slide"
    }
   },
   "source": [
    "Let's make ourselves a quick load function:"
   ]
  },
  {
   "cell_type": "code",
   "execution_count": null,
   "metadata": {
    "slideshow": {
     "slide_type": "-"
    }
   },
   "outputs": [],
   "source": [
    "def load_config(filename):\n",
    "    with open(filename, 'r') as f:\n",
    "        my_config = yaml.safe_load(f.read())\n",
    "        \n",
    "    return my_config"
   ]
  },
  {
   "cell_type": "markdown",
   "metadata": {
    "slideshow": {
     "slide_type": "slide"
    }
   },
   "source": [
    "### Change file externally\n",
    "\n",
    "Change the file outside the script, then re-read"
   ]
  },
  {
   "cell_type": "code",
   "execution_count": null,
   "metadata": {},
   "outputs": [],
   "source": [
    "my_config = load_config('config.yaml')"
   ]
  },
  {
   "cell_type": "code",
   "execution_count": null,
   "metadata": {},
   "outputs": [],
   "source": [
    "my_config"
   ]
  },
  {
   "cell_type": "code",
   "execution_count": null,
   "metadata": {
    "slideshow": {
     "slide_type": "slide"
    }
   },
   "outputs": [],
   "source": [
    "planet_names = [\n",
    "    'Alpha',\n",
    "    'Beta',\n",
    "    'Gamma',\n",
    "    'Bob'\n",
    "]"
   ]
  },
  {
   "cell_type": "code",
   "execution_count": null,
   "metadata": {},
   "outputs": [],
   "source": [
    "planets = dict()\n",
    "\n",
    "# Generate a random number of fake light-curves\n",
    "for i, name in enumerate(planet_names):\n",
    "    # Random number between 1 - 5\n",
    "    light_curves = list()\n",
    "    for j in range(np.random.randint(1, 5)):\n",
    "    \n",
    "        # Generate a light curve\n",
    "        lc0 = np.random.normal(1, 0.1, size=100)\n",
    "    \n",
    "        # Set up file names\n",
    "        planet_directory_name = f'data/planet_{i:003d}'\n",
    "        # Create our directory\n",
    "        os.makedirs(planet_directory_name, exist_ok=True)\n",
    "        \n",
    "        # Set up json filename\n",
    "        lc_filename = f'{planet_directory_name}/lc_{j:003d}.json'\n",
    "        \n",
    "        # Save light curve to a json file (probably not ideal)\n",
    "        with open(lc_filename, 'w') as f:\n",
    "            f.write(json.dumps(list(lc0)))\n",
    "    \n",
    "        # Add the name of our file to the list\n",
    "        light_curves.append(lc_filename)\n",
    "        \n",
    "    # Save to our big list\n",
    "    planets[name] = light_curves"
   ]
  },
  {
   "cell_type": "code",
   "execution_count": null,
   "metadata": {
    "slideshow": {
     "slide_type": "subslide"
    }
   },
   "outputs": [],
   "source": [
    "# Look at our config\n",
    "planets"
   ]
  },
  {
   "cell_type": "code",
   "execution_count": null,
   "metadata": {},
   "outputs": [],
   "source": [
    "# Save our config to a yaml file\n",
    "with open('planet_config.yaml', 'w') as f:\n",
    "    f.write(yaml.dump(planets))"
   ]
  },
  {
   "cell_type": "code",
   "execution_count": null,
   "metadata": {},
   "outputs": [],
   "source": [
    "!cat planet_config.yaml"
   ]
  },
  {
   "cell_type": "markdown",
   "metadata": {},
   "source": [
    "### A different script\n",
    "\n",
    "Now we go to an entirely different script: [Use Planet Config](Use-Planet-Config.ipynb)"
   ]
  },
  {
   "cell_type": "markdown",
   "metadata": {},
   "source": [
    "## Logging\n",
    "\n",
    "Logging can allow for flexible output, which allows you to easily separate information from warnings from debugging."
   ]
  },
  {
   "cell_type": "code",
   "execution_count": null,
   "metadata": {},
   "outputs": [],
   "source": [
    "display(HTML('<iframe src=\"https://docs.python.org/3.7/library/logging.html\" width=800 height=600></iframe>'))"
   ]
  }
 ],
 "metadata": {
  "celltoolbar": "Slideshow",
  "kernelspec": {
   "display_name": "Python 3",
   "language": "python",
   "name": "python3"
  },
  "language_info": {
   "codemirror_mode": {
    "name": "ipython",
    "version": 3
   },
   "file_extension": ".py",
   "mimetype": "text/x-python",
   "name": "python",
   "nbconvert_exporter": "python",
   "pygments_lexer": "ipython3",
   "version": "3.7.3"
  }
 },
 "nbformat": 4,
 "nbformat_minor": 2
}
