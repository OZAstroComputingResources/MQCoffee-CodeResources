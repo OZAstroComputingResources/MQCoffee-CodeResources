{
 "cells": [
  {
   "cell_type": "markdown",
   "metadata": {},
   "source": [
    "# Plotting with Matplotlib: a quick tour\n",
    "\n",
    "Things we're going to cover:\n",
    " * What is a backend, figure, axes, and how to use them\n",
    " * Choosing colours (with new Matplotlib 2.0)\n",
    " * Customising Matplotlib via config files and styles\n",
    " * Some animation ([see the other notebook](Animation%20&%20Widgets%20Example.ipynb))\n",
    " \n",
    "Furthur resources:\n",
    " * [Main matplotlib website](https://matplotlib.org/)\n",
    " * [Recommended examples](https://matplotlib.org/users/examples_index.html)\n",
    " * [Gallery](https://matplotlib.org/gallery.html)\n",
    " * [More examples](https://matplotlib.org/examples/index.html)\n",
    " * [More resources](https://matplotlib.org/resources/index.html)"
   ]
  },
  {
   "cell_type": "code",
   "execution_count": null,
   "metadata": {
    "collapsed": true
   },
   "outputs": [],
   "source": [
    "from IPython.display import display, Video"
   ]
  },
  {
   "cell_type": "markdown",
   "metadata": {},
   "source": [
    "## What is a backend?\n",
    "See https://matplotlib.org/faq/usage_faq.html#what-is-a-backend for more details, but you can think of it as the thing that creates/displays the plots.\n",
    "\n",
    "You can't switch between backends in a single script easily (especially between different graphical backends), so you usually set it at the beginning of a script.\n",
    "\n",
    "You can either set the backend in the matplotlib config file (which we'll cover later), via the `$MPLBACKEND` environment variable, or via `matplotlib.use(\"name of backend\")`. Or, if you're in a jupyter notebook:\n",
    "```\n",
    "%matplotlib <backend>\n",
    "```\n",
    "For this notebook, we're going to use the notebook backend, as it has some cool features with the inline backend lacks"
   ]
  },
  {
   "cell_type": "code",
   "execution_count": null,
   "metadata": {
    "collapsed": true
   },
   "outputs": [],
   "source": [
    "%matplotlib notebook"
   ]
  },
  {
   "cell_type": "markdown",
   "metadata": {},
   "source": [
    "To see the other backends, you can run\n",
    "```\n",
    "%matplotlib --list\n",
    "```"
   ]
  },
  {
   "cell_type": "code",
   "execution_count": null,
   "metadata": {
    "collapsed": true
   },
   "outputs": [],
   "source": [
    "%matplotlib --list"
   ]
  },
  {
   "cell_type": "markdown",
   "metadata": {},
   "source": [
    "## What is a figure?\n",
    "Figures in matplotlib correspond to a single output image e.g. a single PNG, EPS or SVG file. Figures can have multiple plots, and a script can create multiple figures.\n",
    "\n",
    "Figures in matplotlib are instances of a class [`matplotlib.figure.Figure`](https://matplotlib.org/api/figure_api.html#matplotlib.figure.Figure), and have all the methods and attributes defined there.\n",
    "\n",
    "**However**, you can't just call `matplotlib.figure.Figure` and everything works, the figure need to talk to the backend (this is where Matplotlib's state machine comes in -- the thing which drives Matplotlib).\n",
    "Instead, we use [`matplotlib.pyplot`](https://matplotlib.org/api/pyplot_summary.html), which we usually import as `plt`, i.e.:\n",
    "```\n",
    "import matplotlib.pyplot as plt\n",
    "```\n",
    "(FYI, `matplotlib` is usually imported as `mpl`)\n",
    "\n",
    "`matplotlib.pyplot` (which we'll call `plt` from now on) handles all the backend stuff, and so if you're doing stuff with backends, you need to do that before importing `plt`.\n",
    "\n",
    "You can create figures via `plt` in a number of ways, but the two main ways are [`plt.figure()`](https://matplotlib.org/api/pyplot_api.html#matplotlib.pyplot.figure) and [`plt.subplots()`](https://matplotlib.org/api/pyplot_api.html#matplotlib.pyplot.subplots).\n",
    "\n",
    "`plt.figure()` returns just a figure, and takes almost same arguments as `matplotlib.figure.Figure` (there's a few extra arguments that `plt.figure()` takes, but don't worry about them).\n",
    "\n",
    "`plt.subplots()` returns both a figure, and all the axes for the figure. `plt.subplots()` is newer than `plt.figure()`, and does most of what you want from managing axes which you have to do manually for `plt.figure()`. `plt.subplots()` takes similar arguments to `plt.figure()`, plus it can use [`matplotlib.gridspec`](https://matplotlib.org/users/gridspec.html) to do more complex layouts.\n",
    "\n",
    "In general, you want to use `plt.subplots()` over `plt.figure()`."
   ]
  },
  {
   "cell_type": "markdown",
   "metadata": {},
   "source": [
    "## What is an axes?\n",
    "Axes in matplotlib are the plots: the easiest way to get one is to use `plt.subplots()` as above. [`matplotlib.axes.Axes`](https://matplotlib.org/api/axes_api.html#matplotlib.axes.Axes) is the underlying class.\n",
    "\n",
    "As outlined in https://matplotlib.org/faq/usage_faq.html#matplotlib-pyplot-and-pylab-how-are-they-related, https://matplotlib.org/faq/usage_faq.html#what-is-interactive-mode, and https://matplotlib.org/faq/usage_faq.html#coding-styles, there are different levels of the API, the Matlab-like `pylab` interface, the more python-like `plt` interface, and the \"Object Oriented\" (OO) interface, which is the most explicit and which avoids the most hidden aspects (I'm skipping over how the figures and backends are linked up, as unless you plan on writing a new backend or use matplotlib as part of a GUI you don't need to worry about it).\n",
    "\n",
    "We're going to use the OO interface. This means we only use `plt` to create the figure (and show and close the figure).\n",
    "\n",
    "Something worth noting is that for some reason `Figure.show()` doesn't work how you expect, so `plt.show()` is almost always what you want.\n",
    "\n",
    "Additionally, if you create a bunch of figures, they do take up memory. It's best to close figures via `plt.close()` when you're done with them."
   ]
  },
  {
   "cell_type": "markdown",
   "metadata": {},
   "source": [
    "## Example:"
   ]
  },
  {
   "cell_type": "code",
   "execution_count": null,
   "metadata": {
    "collapsed": true
   },
   "outputs": [],
   "source": [
    "import matplotlib.pyplot as plt\n",
    "import numpy as np\n",
    "from numpy.random import randn as normal_dist\n",
    "\n",
    "x = np.linspace(0,1)\n",
    "y = normal_dist(*x.shape)\n",
    "\n",
    "fig, ax = plt.subplots()\n",
    "ax.plot(x, y, marker='.', linestyle='--', label=\"line\")\n",
    "ax.set_title(\"Axes title\")\n",
    "ax.legend()\n",
    "fig.suptitle(\"Figure title\")\n",
    "plt.show()\n",
    "# commented as it breaks displaying in jupyter notebook, but you should make sure you do this in a script\n",
    "#plt.close(fig) # closing the figure"
   ]
  },
  {
   "cell_type": "markdown",
   "metadata": {},
   "source": [
    "## Colo(u)rs in Matplotlib"
   ]
  },
  {
   "cell_type": "markdown",
   "metadata": {},
   "source": [
    "With the new [Matplotlib 2.0](https://matplotlib.org/users/whats_new.html#new-in-matplotlib-2-0), [there have been quite a number of changes with how colours work](https://matplotlib.org/users/dflt_style_changes.html#colors-color-cycles-and-color-maps). This most obvious is the new colours, which you can see ![here](https://matplotlib.org/users/dflt_style_changes-1.png)\n",
    "\n",
    "As we'll see when we look at styles, the new way a referring to colours in a style-independent way is `CN`, where `N` goes from `0` to `9`. There's also a new default colour map ![here](https://matplotlib.org/users/dflt_style_changes-2.png)\n",
    "\n",
    "See https://youtu.be/xAoljeRJ3lU for more about why the new colour map is better.\n",
    "\n",
    "It's still possible to refer back to colours by their name/abbriviation, so nothing changes in this case if you move to Matplotlib 2.0, and a whole bunch of new ways. There's more information about choosing colours [here](https://matplotlib.org/users/colors.html), and there is class documentation for [`matplotlib.colors`](https://matplotlib.org/api/colors_api.html) and [`matplotlib.cm` (colour maps)](https://matplotlib.org/api/cm_api.html).\n",
    "\n",
    "One of the cool new things is the support for cycles (see [here](https://matplotlib.org/examples/color/color_cycle_demo.html) for the demo, which I've modified slightly)."
   ]
  },
  {
   "cell_type": "code",
   "execution_count": null,
   "metadata": {
    "collapsed": true
   },
   "outputs": [],
   "source": [
    "\"\"\"\n",
    "===================\n",
    "Styling with cycler\n",
    "===================\n",
    "\n",
    "Demo of custom property-cycle settings to control colors and other style\n",
    "properties for multi-line plots.\n",
    "\n",
    "This example demonstrates two different APIs:\n",
    "\n",
    "    1. Setting the default rc parameter specifying the property cycle.\n",
    "       This affects all subsequent axes (but not axes already created).\n",
    "    2. Setting the property cycle for a single pair of axes.\n",
    "\"\"\"\n",
    "from cycler import cycler\n",
    "import numpy as np\n",
    "import matplotlib.pyplot as plt\n",
    "\n",
    "\n",
    "x = np.linspace(0, 2 * np.pi)\n",
    "offsets = np.linspace(0, 2*np.pi, 4, endpoint=False)\n",
    "# Create array with shifted-sine curve along each column\n",
    "yy = np.transpose([np.sin(x + phi) for phi in offsets])\n",
    "\n",
    "# 1. Setting prop cycle on default rc parameter\n",
    "plt.rc('lines', linewidth=4)\n",
    "plt.rc('axes', prop_cycle=(cycler('color', ['xkcd:blue', 'xkcd:green', 'xkcd:purple', 'xkcd:pink']) +\n",
    "                           cycler('linestyle', ['-', '--', ':', '-.'])))\n",
    "fig, (ax0, ax1) = plt.subplots(nrows=2)\n",
    "ax0.plot(yy)\n",
    "\n",
    "\n",
    "# 2. Define prop cycle for single set of axes\n",
    "ax1.set_prop_cycle(cycler('color', ['tab:blue', 'tab:green', 'tab:purple', 'tab:pink']) +\n",
    "                   cycler('lw', [1, 2, 3, 4]))\n",
    "ax1.plot(yy)\n",
    "\n",
    "# Tweak spacing between subplots to prevent labels from overlapping\n",
    "fig.subplots_adjust(hspace=0.2)\n",
    "plt.show()"
   ]
  },
  {
   "cell_type": "markdown",
   "metadata": {
    "collapsed": true
   },
   "source": [
    "## Customising Matplotlib: config files and styles"
   ]
  },
  {
   "cell_type": "markdown",
   "metadata": {},
   "source": [
    "One of the new features added to Matplotlib 2.0 is styles, which change how plots appear. Below is an example of the seaborn style (seaborn isn't installed, this comes with matplotlib by default)"
   ]
  },
  {
   "cell_type": "code",
   "execution_count": null,
   "metadata": {
    "collapsed": true
   },
   "outputs": [],
   "source": [
    "import matplotlib.pyplot as plt\n",
    "import numpy as np\n",
    "from numpy.random import randn as normal_dist\n",
    "\n",
    "# commented so we don't affect the other plots\n",
    "#plt.style.use(\"seaborn\") \n",
    "with plt.style.context(\"seaborn\"):\n",
    "    x = np.linspace(0,1)\n",
    "    y = normal_dist(*x.shape)\n",
    "\n",
    "    fig, ax = plt.subplots()\n",
    "    ax.plot(x, y, marker='.', linestyle='--', label=\"line\")\n",
    "    ax.set_title(\"Axes title\")\n",
    "    ax.legend()\n",
    "    fig.suptitle(\"Figure title\")\n",
    "    plt.show()\n",
    "    # commented as it breaks displaying in jupyter notebook, but you should make sure you do this in a script\n",
    "    #plt.close(fig) # closing the figure"
   ]
  },
  {
   "cell_type": "markdown",
   "metadata": {},
   "source": [
    "Here's a list of styles available in this version of matplotlib. "
   ]
  },
  {
   "cell_type": "code",
   "execution_count": null,
   "metadata": {
    "collapsed": true
   },
   "outputs": [],
   "source": [
    "display(plt.style.available)"
   ]
  },
  {
   "cell_type": "code",
   "execution_count": null,
   "metadata": {
    "collapsed": true,
    "scrolled": false
   },
   "outputs": [],
   "source": [
    "# Use matplotlib inline to avoid using too much memory\n",
    "%matplotlib inline\n",
    "import matplotlib.pyplot as plt\n",
    "import numpy as np\n",
    "from numpy.random import randn as normal_dist\n",
    "\n",
    "x = np.linspace(0,1)\n",
    "y = normal_dist(*x.shape)\n",
    "\n",
    "for style in plt.style.available:\n",
    "    with plt.style.context(style):\n",
    "        fig, ax = plt.subplots()\n",
    "        ax.plot(x, y, marker='.', linestyle='--', label=\"line\")\n",
    "        ax.legend()\n",
    "        ax.set_title(style)\n",
    "        plt.show()\n",
    "        plt.close(fig) # closing the figure\n",
    "%matplotlib notebook"
   ]
  },
  {
   "cell_type": "markdown",
   "metadata": {},
   "source": [
    "Note that styles are composable, i.e. they can be combined."
   ]
  },
  {
   "cell_type": "code",
   "execution_count": null,
   "metadata": {
    "collapsed": true
   },
   "outputs": [],
   "source": [
    "import matplotlib.pyplot as plt\n",
    "import numpy as np\n",
    "from numpy.random import randn as normal_dist\n",
    "\n",
    "plt.style.use(['dark_background', 'presentation'])\n",
    "\n",
    "x = np.linspace(0,1)\n",
    "y = normal_dist(*x.shape)\n",
    "\n",
    "fig, ax = plt.subplots()\n",
    "ax.plot(x, y, marker='.', linestyle='--', label=\"line\")\n",
    "ax.set_title(\"Axes title\")\n",
    "ax.legend()\n",
    "fig.suptitle(\"Figure title\")\n",
    "plt.show()\n",
    "# commented as it breaks displaying in jupyter notebook, but you should make sure you do this in a script\n",
    "#plt.close(fig) # closing the figure"
   ]
  },
  {
   "cell_type": "markdown",
   "metadata": {},
   "source": [
    "You can still customise a whole bunch of other settings via the matplotlib config file `matplotlibrc`, which can be controlled as outlined [here](https://matplotlib.org/users/customizing.html#the-matplotlibrc-file). While styles replace appearence settings, things like which backend to use, how to render latex, and what fonts to use for eps aren't under the control of styles (thankfully).\n",
    "\n",
    "Some useful settings to know about:\n",
    "\n",
    "* `backend`: sets which backend to use\n",
    "* `text.usetex`: sets whether to use matplotlib's builtin latex interpreter, or a real latex engine\n",
    "* `ps.fonttype`: sets whether to use Type 3 or Type 42 (TrueType) fonts -- for MNRAS you want Type 42 (i.e. `ps.fonttype: 42`)\n",
    "* `svg.fonttype`: sets what to do about fonts when outputting SVGs\n",
    "\n",
    "\n",
    "See more about customising matplotlib [here](https://matplotlib.org/users/customizing.html).\n",
    "\n",
    "There are quite a number of projects which build on matplotlib, see https://matplotlib.org/mpl_toolkits/index.html for some, and https://speakerdeck.com/jakevdp/pythons-visualization-landscape-pycon-2017 for a recent summary of the whole visualisation ecosystem (by one of the authors of *Statistics and Machine Learning in Astronomy* (the yellow/orange book))."
   ]
  }
 ],
 "metadata": {
  "kernelspec": {
   "display_name": "Python 3",
   "language": "python",
   "name": "python3"
  },
  "language_info": {
   "codemirror_mode": {
    "name": "ipython",
    "version": 3
   },
   "file_extension": ".py",
   "mimetype": "text/x-python",
   "name": "python",
   "nbconvert_exporter": "python",
   "pygments_lexer": "ipython3",
   "version": "3.5.3+"
  }
 },
 "nbformat": 4,
 "nbformat_minor": 2
}
